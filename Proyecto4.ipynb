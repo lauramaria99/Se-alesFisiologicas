{
  "nbformat": 4,
  "nbformat_minor": 0,
  "metadata": {
    "colab": {
      "name": "Proyecto4.ipynb",
      "provenance": [],
      "collapsed_sections": [],
      "include_colab_link": true
    },
    "kernelspec": {
      "name": "python3",
      "display_name": "Python 3"
    }
  },
  "cells": [
    {
      "cell_type": "markdown",
      "metadata": {
        "id": "view-in-github",
        "colab_type": "text"
      },
      "source": [
        "<a href=\"https://colab.research.google.com/github/lauramaria99/Se-alesFisiologicas/blob/main/Proyecto4.ipynb\" target=\"_parent\"><img src=\"https://colab.research.google.com/assets/colab-badge.svg\" alt=\"Open In Colab\"/></a>"
      ]
    },
    {
      "cell_type": "markdown",
      "metadata": {
        "id": "27eGo7I-RHdZ"
      },
      "source": [
        "# **Programa de Bioingeniería** \n",
        "\n",
        "###**Bioseñales y Sistemas** \n",
        "\n",
        "###**Proyecto 4**\n",
        "\n",
        "**INTEGRANTES** \n",
        "\n",
        "- Isabella Ariza Cuberos - C.C 1152470641 \n",
        "- Laura María Muñoz Bravo - C.C 1216729952\n",
        "- Maria Camila Parra Córdoba - C.C 1233191182 \n"
      ]
    },
    {
      "cell_type": "code",
      "metadata": {
        "id": "Thw0PmuOc2Aw"
      },
      "source": [
        "#Se importantan las librerias necesarias para el desarrollo del trabajo. \n",
        "import pandas as pd\n",
        "import numpy as np \n",
        "import matplotlib.pyplot as plt\n",
        "import seaborn as sb\n",
        "from sklearn.neural_network import MLPClassifier\n",
        "from sklearn.model_selection import train_test_split\n",
        "from sklearn.cluster import KMeans\n",
        "from sklearn.metrics import pairwise_distances_argmin_min\n",
        "from sklearn.metrics import mean_squared_error\n",
        "from math import sqrt\n",
        "from sklearn.metrics import r2_score\n",
        "from sklearn.metrics import classification_report,confusion_matrix\n",
        "%matplotlib inline\n",
        "from mpl_toolkits.mplot3d import Axes3D\n",
        "plt.rcParams['figure.figsize'] = (16, 9)\n",
        "plt.style.use('ggplot')\n",
        "import warnings\n",
        "warnings.filterwarnings(\"ignore\") "
      ],
      "execution_count": null,
      "outputs": []
    },
    {
      "cell_type": "code",
      "metadata": {
        "colab": {
          "base_uri": "https://localhost:8080/",
          "height": 221
        },
        "id": "0J0UDbHYc82h",
        "outputId": "24dc2c7b-918a-44d7-fe09-3baebf1928fb"
      },
      "source": [
        "#Lectura de los datos guardados en el DataFrame.\n",
        "df = pd.read_csv('DATOS1.csv') \n",
        "print(df.shape)\n",
        "df.head()"
      ],
      "execution_count": null,
      "outputs": [
        {
          "output_type": "stream",
          "text": [
            "(4919, 7)\n"
          ],
          "name": "stdout"
        },
        {
          "output_type": "execute_result",
          "data": {
            "text/html": [
              "<div>\n",
              "<style scoped>\n",
              "    .dataframe tbody tr th:only-of-type {\n",
              "        vertical-align: middle;\n",
              "    }\n",
              "\n",
              "    .dataframe tbody tr th {\n",
              "        vertical-align: top;\n",
              "    }\n",
              "\n",
              "    .dataframe thead th {\n",
              "        text-align: right;\n",
              "    }\n",
              "</style>\n",
              "<table border=\"1\" class=\"dataframe\">\n",
              "  <thead>\n",
              "    <tr style=\"text-align: right;\">\n",
              "      <th></th>\n",
              "      <th>Varianza</th>\n",
              "      <th>Rango</th>\n",
              "      <th>SMA gruesa</th>\n",
              "      <th>SMA fina</th>\n",
              "      <th>Espectro medio</th>\n",
              "      <th>PSD prom</th>\n",
              "      <th>Outcome</th>\n",
              "    </tr>\n",
              "  </thead>\n",
              "  <tbody>\n",
              "    <tr>\n",
              "      <th>0</th>\n",
              "      <td>1.439470e-07</td>\n",
              "      <td>0.003526</td>\n",
              "      <td>9.771037</td>\n",
              "      <td>16.595423</td>\n",
              "      <td>1.310650e-11</td>\n",
              "      <td>9.291749e-11</td>\n",
              "      <td>0</td>\n",
              "    </tr>\n",
              "    <tr>\n",
              "      <th>1</th>\n",
              "      <td>1.219542e-07</td>\n",
              "      <td>0.003512</td>\n",
              "      <td>9.061496</td>\n",
              "      <td>14.030016</td>\n",
              "      <td>1.083803e-11</td>\n",
              "      <td>9.056026e-11</td>\n",
              "      <td>0</td>\n",
              "    </tr>\n",
              "    <tr>\n",
              "      <th>2</th>\n",
              "      <td>1.296732e-07</td>\n",
              "      <td>0.003461</td>\n",
              "      <td>9.350690</td>\n",
              "      <td>13.859690</td>\n",
              "      <td>1.149865e-11</td>\n",
              "      <td>9.430518e-11</td>\n",
              "      <td>0</td>\n",
              "    </tr>\n",
              "    <tr>\n",
              "      <th>3</th>\n",
              "      <td>1.157771e-07</td>\n",
              "      <td>0.003517</td>\n",
              "      <td>8.231898</td>\n",
              "      <td>12.882619</td>\n",
              "      <td>1.030226e-11</td>\n",
              "      <td>9.286152e-11</td>\n",
              "      <td>0</td>\n",
              "    </tr>\n",
              "    <tr>\n",
              "      <th>4</th>\n",
              "      <td>1.102904e-07</td>\n",
              "      <td>0.003527</td>\n",
              "      <td>8.176917</td>\n",
              "      <td>12.942420</td>\n",
              "      <td>1.013497e-11</td>\n",
              "      <td>8.701691e-11</td>\n",
              "      <td>0</td>\n",
              "    </tr>\n",
              "  </tbody>\n",
              "</table>\n",
              "</div>"
            ],
            "text/plain": [
              "       Varianza     Rango  SMA gruesa  ...  Espectro medio      PSD prom  Outcome\n",
              "0  1.439470e-07  0.003526    9.771037  ...    1.310650e-11  9.291749e-11        0\n",
              "1  1.219542e-07  0.003512    9.061496  ...    1.083803e-11  9.056026e-11        0\n",
              "2  1.296732e-07  0.003461    9.350690  ...    1.149865e-11  9.430518e-11        0\n",
              "3  1.157771e-07  0.003517    8.231898  ...    1.030226e-11  9.286152e-11        0\n",
              "4  1.102904e-07  0.003527    8.176917  ...    1.013497e-11  8.701691e-11        0\n",
              "\n",
              "[5 rows x 7 columns]"
            ]
          },
          "metadata": {
            "tags": []
          },
          "execution_count": 3
        }
      ]
    },
    {
      "cell_type": "code",
      "metadata": {
        "id": "J0_HcFHwljBC"
      },
      "source": [
        "#Se dividen los dataframe para las posteriores comparaciones.\n",
        "df0 = df[df['Outcome'] == 0]\n",
        "df1 = df[df['Outcome'] == 1]\n",
        "df2 = df[df['Outcome'] == 2]"
      ],
      "execution_count": null,
      "outputs": []
    },
    {
      "cell_type": "markdown",
      "metadata": {
        "id": "eZQCb3AceZzU"
      },
      "source": [
        "####**- Normalizar las características obtenidas del trabajo 3. Discuta cuales características podrían tener mayor potencial para construir un sistema de clasificación entre las diferentes clases (normal, sibilancia, crepitancia).**"
      ]
    },
    {
      "cell_type": "code",
      "metadata": {
        "colab": {
          "base_uri": "https://localhost:8080/",
          "height": 297
        },
        "id": "G6WWF96pnJIl",
        "outputId": "885cdefd-e372-4499-e011-176993a86fe0"
      },
      "source": [
        "#Normalización de las características de sujetos normales.\n",
        "n=df0\n",
        "outc = ['Outcome'] \n",
        "predc = list(set(list(n.columns))-set(outc))\n",
        "n[predc] = n[predc]/n[predc].max()\n",
        "n.describe()"
      ],
      "execution_count": null,
      "outputs": [
        {
          "output_type": "execute_result",
          "data": {
            "text/html": [
              "<div>\n",
              "<style scoped>\n",
              "    .dataframe tbody tr th:only-of-type {\n",
              "        vertical-align: middle;\n",
              "    }\n",
              "\n",
              "    .dataframe tbody tr th {\n",
              "        vertical-align: top;\n",
              "    }\n",
              "\n",
              "    .dataframe thead th {\n",
              "        text-align: right;\n",
              "    }\n",
              "</style>\n",
              "<table border=\"1\" class=\"dataframe\">\n",
              "  <thead>\n",
              "    <tr style=\"text-align: right;\">\n",
              "      <th></th>\n",
              "      <th>Varianza</th>\n",
              "      <th>Rango</th>\n",
              "      <th>SMA gruesa</th>\n",
              "      <th>SMA fina</th>\n",
              "      <th>Espectro medio</th>\n",
              "      <th>PSD prom</th>\n",
              "      <th>Outcome</th>\n",
              "    </tr>\n",
              "  </thead>\n",
              "  <tbody>\n",
              "    <tr>\n",
              "      <th>count</th>\n",
              "      <td>2633.000000</td>\n",
              "      <td>2633.000000</td>\n",
              "      <td>2633.000000</td>\n",
              "      <td>2633.000000</td>\n",
              "      <td>2633.000000</td>\n",
              "      <td>2633.000000</td>\n",
              "      <td>2633.0</td>\n",
              "    </tr>\n",
              "    <tr>\n",
              "      <th>mean</th>\n",
              "      <td>0.013137</td>\n",
              "      <td>0.081981</td>\n",
              "      <td>0.087765</td>\n",
              "      <td>0.051565</td>\n",
              "      <td>0.013081</td>\n",
              "      <td>0.043769</td>\n",
              "      <td>0.0</td>\n",
              "    </tr>\n",
              "    <tr>\n",
              "      <th>std</th>\n",
              "      <td>0.044380</td>\n",
              "      <td>0.097233</td>\n",
              "      <td>0.107749</td>\n",
              "      <td>0.066647</td>\n",
              "      <td>0.044165</td>\n",
              "      <td>0.102980</td>\n",
              "      <td>0.0</td>\n",
              "    </tr>\n",
              "    <tr>\n",
              "      <th>min</th>\n",
              "      <td>0.000002</td>\n",
              "      <td>0.001690</td>\n",
              "      <td>0.001666</td>\n",
              "      <td>0.000841</td>\n",
              "      <td>0.000002</td>\n",
              "      <td>0.000006</td>\n",
              "      <td>0.0</td>\n",
              "    </tr>\n",
              "    <tr>\n",
              "      <th>25%</th>\n",
              "      <td>0.000200</td>\n",
              "      <td>0.017407</td>\n",
              "      <td>0.018001</td>\n",
              "      <td>0.011520</td>\n",
              "      <td>0.000201</td>\n",
              "      <td>0.000893</td>\n",
              "      <td>0.0</td>\n",
              "    </tr>\n",
              "    <tr>\n",
              "      <th>50%</th>\n",
              "      <td>0.001341</td>\n",
              "      <td>0.045437</td>\n",
              "      <td>0.044652</td>\n",
              "      <td>0.026329</td>\n",
              "      <td>0.001330</td>\n",
              "      <td>0.004593</td>\n",
              "      <td>0.0</td>\n",
              "    </tr>\n",
              "    <tr>\n",
              "      <th>75%</th>\n",
              "      <td>0.009416</td>\n",
              "      <td>0.111968</td>\n",
              "      <td>0.117419</td>\n",
              "      <td>0.065749</td>\n",
              "      <td>0.009370</td>\n",
              "      <td>0.038113</td>\n",
              "      <td>0.0</td>\n",
              "    </tr>\n",
              "    <tr>\n",
              "      <th>max</th>\n",
              "      <td>1.000000</td>\n",
              "      <td>1.000000</td>\n",
              "      <td>1.000000</td>\n",
              "      <td>1.000000</td>\n",
              "      <td>1.000000</td>\n",
              "      <td>1.000000</td>\n",
              "      <td>0.0</td>\n",
              "    </tr>\n",
              "  </tbody>\n",
              "</table>\n",
              "</div>"
            ],
            "text/plain": [
              "          Varianza        Rango  ...     PSD prom  Outcome\n",
              "count  2633.000000  2633.000000  ...  2633.000000   2633.0\n",
              "mean      0.013137     0.081981  ...     0.043769      0.0\n",
              "std       0.044380     0.097233  ...     0.102980      0.0\n",
              "min       0.000002     0.001690  ...     0.000006      0.0\n",
              "25%       0.000200     0.017407  ...     0.000893      0.0\n",
              "50%       0.001341     0.045437  ...     0.004593      0.0\n",
              "75%       0.009416     0.111968  ...     0.038113      0.0\n",
              "max       1.000000     1.000000  ...     1.000000      0.0\n",
              "\n",
              "[8 rows x 7 columns]"
            ]
          },
          "metadata": {
            "tags": []
          },
          "execution_count": 5
        }
      ]
    },
    {
      "cell_type": "code",
      "metadata": {
        "colab": {
          "base_uri": "https://localhost:8080/",
          "height": 297
        },
        "id": "QVPzxvAfmspb",
        "outputId": "74972867-cb28-4c48-80ab-3862cafaa39e"
      },
      "source": [
        "#Normalización de las caracteristicas de los sujetos sibilantes.\n",
        "n1=df1\n",
        "outc1 = ['Outcome'] \n",
        "predc1 = list(set(list(n1.columns))-set(outc1))\n",
        "n1[predc1] = n1[predc1]/n1[predc1].max()\n",
        "n1.describe()"
      ],
      "execution_count": null,
      "outputs": [
        {
          "output_type": "execute_result",
          "data": {
            "text/html": [
              "<div>\n",
              "<style scoped>\n",
              "    .dataframe tbody tr th:only-of-type {\n",
              "        vertical-align: middle;\n",
              "    }\n",
              "\n",
              "    .dataframe tbody tr th {\n",
              "        vertical-align: top;\n",
              "    }\n",
              "\n",
              "    .dataframe thead th {\n",
              "        text-align: right;\n",
              "    }\n",
              "</style>\n",
              "<table border=\"1\" class=\"dataframe\">\n",
              "  <thead>\n",
              "    <tr style=\"text-align: right;\">\n",
              "      <th></th>\n",
              "      <th>Varianza</th>\n",
              "      <th>Rango</th>\n",
              "      <th>SMA gruesa</th>\n",
              "      <th>SMA fina</th>\n",
              "      <th>Espectro medio</th>\n",
              "      <th>PSD prom</th>\n",
              "      <th>Outcome</th>\n",
              "    </tr>\n",
              "  </thead>\n",
              "  <tbody>\n",
              "    <tr>\n",
              "      <th>count</th>\n",
              "      <td>655.000000</td>\n",
              "      <td>655.000000</td>\n",
              "      <td>655.000000</td>\n",
              "      <td>655.000000</td>\n",
              "      <td>655.000000</td>\n",
              "      <td>655.000000</td>\n",
              "      <td>655.0</td>\n",
              "    </tr>\n",
              "    <tr>\n",
              "      <th>mean</th>\n",
              "      <td>0.030123</td>\n",
              "      <td>0.099667</td>\n",
              "      <td>0.135677</td>\n",
              "      <td>0.113001</td>\n",
              "      <td>0.029654</td>\n",
              "      <td>0.055343</td>\n",
              "      <td>1.0</td>\n",
              "    </tr>\n",
              "    <tr>\n",
              "      <th>std</th>\n",
              "      <td>0.079381</td>\n",
              "      <td>0.111453</td>\n",
              "      <td>0.154808</td>\n",
              "      <td>0.132902</td>\n",
              "      <td>0.078906</td>\n",
              "      <td>0.120146</td>\n",
              "      <td>0.0</td>\n",
              "    </tr>\n",
              "    <tr>\n",
              "      <th>min</th>\n",
              "      <td>0.000006</td>\n",
              "      <td>0.002702</td>\n",
              "      <td>0.002737</td>\n",
              "      <td>0.002765</td>\n",
              "      <td>0.000006</td>\n",
              "      <td>0.000006</td>\n",
              "      <td>1.0</td>\n",
              "    </tr>\n",
              "    <tr>\n",
              "      <th>25%</th>\n",
              "      <td>0.000490</td>\n",
              "      <td>0.019209</td>\n",
              "      <td>0.028330</td>\n",
              "      <td>0.022965</td>\n",
              "      <td>0.000484</td>\n",
              "      <td>0.001126</td>\n",
              "      <td>1.0</td>\n",
              "    </tr>\n",
              "    <tr>\n",
              "      <th>50%</th>\n",
              "      <td>0.005215</td>\n",
              "      <td>0.064751</td>\n",
              "      <td>0.085202</td>\n",
              "      <td>0.068848</td>\n",
              "      <td>0.005176</td>\n",
              "      <td>0.009058</td>\n",
              "      <td>1.0</td>\n",
              "    </tr>\n",
              "    <tr>\n",
              "      <th>75%</th>\n",
              "      <td>0.024274</td>\n",
              "      <td>0.136297</td>\n",
              "      <td>0.182512</td>\n",
              "      <td>0.155851</td>\n",
              "      <td>0.023325</td>\n",
              "      <td>0.053200</td>\n",
              "      <td>1.0</td>\n",
              "    </tr>\n",
              "    <tr>\n",
              "      <th>max</th>\n",
              "      <td>1.000000</td>\n",
              "      <td>1.000000</td>\n",
              "      <td>1.000000</td>\n",
              "      <td>1.000000</td>\n",
              "      <td>1.000000</td>\n",
              "      <td>1.000000</td>\n",
              "      <td>1.0</td>\n",
              "    </tr>\n",
              "  </tbody>\n",
              "</table>\n",
              "</div>"
            ],
            "text/plain": [
              "         Varianza       Rango  SMA gruesa  ...  Espectro medio    PSD prom  Outcome\n",
              "count  655.000000  655.000000  655.000000  ...      655.000000  655.000000    655.0\n",
              "mean     0.030123    0.099667    0.135677  ...        0.029654    0.055343      1.0\n",
              "std      0.079381    0.111453    0.154808  ...        0.078906    0.120146      0.0\n",
              "min      0.000006    0.002702    0.002737  ...        0.000006    0.000006      1.0\n",
              "25%      0.000490    0.019209    0.028330  ...        0.000484    0.001126      1.0\n",
              "50%      0.005215    0.064751    0.085202  ...        0.005176    0.009058      1.0\n",
              "75%      0.024274    0.136297    0.182512  ...        0.023325    0.053200      1.0\n",
              "max      1.000000    1.000000    1.000000  ...        1.000000    1.000000      1.0\n",
              "\n",
              "[8 rows x 7 columns]"
            ]
          },
          "metadata": {
            "tags": []
          },
          "execution_count": 6
        }
      ]
    },
    {
      "cell_type": "code",
      "metadata": {
        "colab": {
          "base_uri": "https://localhost:8080/",
          "height": 297
        },
        "id": "l8Bb2Jsko8tc",
        "outputId": "6e28347a-97a0-4a7c-a8c1-3514f735260d"
      },
      "source": [
        "#Normalización de las caracteristicas de los sujetos crepitantes.\n",
        "n2=df2\n",
        "outc2 = ['Outcome'] \n",
        "predc2 = list(set(list(n2.columns))-set(outc2))\n",
        "n2[predc2] = n2[predc2]/n2[predc2].max()\n",
        "n2.describe()"
      ],
      "execution_count": null,
      "outputs": [
        {
          "output_type": "execute_result",
          "data": {
            "text/html": [
              "<div>\n",
              "<style scoped>\n",
              "    .dataframe tbody tr th:only-of-type {\n",
              "        vertical-align: middle;\n",
              "    }\n",
              "\n",
              "    .dataframe tbody tr th {\n",
              "        vertical-align: top;\n",
              "    }\n",
              "\n",
              "    .dataframe thead th {\n",
              "        text-align: right;\n",
              "    }\n",
              "</style>\n",
              "<table border=\"1\" class=\"dataframe\">\n",
              "  <thead>\n",
              "    <tr style=\"text-align: right;\">\n",
              "      <th></th>\n",
              "      <th>Varianza</th>\n",
              "      <th>Rango</th>\n",
              "      <th>SMA gruesa</th>\n",
              "      <th>SMA fina</th>\n",
              "      <th>Espectro medio</th>\n",
              "      <th>PSD prom</th>\n",
              "      <th>Outcome</th>\n",
              "    </tr>\n",
              "  </thead>\n",
              "  <tbody>\n",
              "    <tr>\n",
              "      <th>count</th>\n",
              "      <td>1631.000000</td>\n",
              "      <td>1631.000000</td>\n",
              "      <td>1631.000000</td>\n",
              "      <td>1631.000000</td>\n",
              "      <td>1631.000000</td>\n",
              "      <td>1631.000000</td>\n",
              "      <td>1631.0</td>\n",
              "    </tr>\n",
              "    <tr>\n",
              "      <th>mean</th>\n",
              "      <td>0.073366</td>\n",
              "      <td>0.243830</td>\n",
              "      <td>0.160739</td>\n",
              "      <td>0.167450</td>\n",
              "      <td>0.072005</td>\n",
              "      <td>0.066319</td>\n",
              "      <td>2.0</td>\n",
              "    </tr>\n",
              "    <tr>\n",
              "      <th>std</th>\n",
              "      <td>0.117088</td>\n",
              "      <td>0.186571</td>\n",
              "      <td>0.133261</td>\n",
              "      <td>0.140824</td>\n",
              "      <td>0.115028</td>\n",
              "      <td>0.117076</td>\n",
              "      <td>0.0</td>\n",
              "    </tr>\n",
              "    <tr>\n",
              "      <th>min</th>\n",
              "      <td>0.000016</td>\n",
              "      <td>0.004285</td>\n",
              "      <td>0.002908</td>\n",
              "      <td>0.003237</td>\n",
              "      <td>0.000016</td>\n",
              "      <td>0.000012</td>\n",
              "      <td>2.0</td>\n",
              "    </tr>\n",
              "    <tr>\n",
              "      <th>25%</th>\n",
              "      <td>0.005938</td>\n",
              "      <td>0.093288</td>\n",
              "      <td>0.059143</td>\n",
              "      <td>0.063267</td>\n",
              "      <td>0.005839</td>\n",
              "      <td>0.004550</td>\n",
              "      <td>2.0</td>\n",
              "    </tr>\n",
              "    <tr>\n",
              "      <th>50%</th>\n",
              "      <td>0.028481</td>\n",
              "      <td>0.202409</td>\n",
              "      <td>0.126841</td>\n",
              "      <td>0.135009</td>\n",
              "      <td>0.027924</td>\n",
              "      <td>0.020622</td>\n",
              "      <td>2.0</td>\n",
              "    </tr>\n",
              "    <tr>\n",
              "      <th>75%</th>\n",
              "      <td>0.089896</td>\n",
              "      <td>0.356311</td>\n",
              "      <td>0.226600</td>\n",
              "      <td>0.227342</td>\n",
              "      <td>0.088295</td>\n",
              "      <td>0.072947</td>\n",
              "      <td>2.0</td>\n",
              "    </tr>\n",
              "    <tr>\n",
              "      <th>max</th>\n",
              "      <td>1.000000</td>\n",
              "      <td>1.000000</td>\n",
              "      <td>1.000000</td>\n",
              "      <td>1.000000</td>\n",
              "      <td>1.000000</td>\n",
              "      <td>1.000000</td>\n",
              "      <td>2.0</td>\n",
              "    </tr>\n",
              "  </tbody>\n",
              "</table>\n",
              "</div>"
            ],
            "text/plain": [
              "          Varianza        Rango  ...     PSD prom  Outcome\n",
              "count  1631.000000  1631.000000  ...  1631.000000   1631.0\n",
              "mean      0.073366     0.243830  ...     0.066319      2.0\n",
              "std       0.117088     0.186571  ...     0.117076      0.0\n",
              "min       0.000016     0.004285  ...     0.000012      2.0\n",
              "25%       0.005938     0.093288  ...     0.004550      2.0\n",
              "50%       0.028481     0.202409  ...     0.020622      2.0\n",
              "75%       0.089896     0.356311  ...     0.072947      2.0\n",
              "max       1.000000     1.000000  ...     1.000000      2.0\n",
              "\n",
              "[8 rows x 7 columns]"
            ]
          },
          "metadata": {
            "tags": []
          },
          "execution_count": 7
        }
      ]
    },
    {
      "cell_type": "code",
      "metadata": {
        "id": "BWSoafJqp2Nx"
      },
      "source": [
        "#CREACIÓN DE LOS DATAFRAME CON DATOS ANTERIORMENTE NORMALIZADOS. \n",
        "#Normales y sibilantes.\n",
        "n_s=pd.concat([n,n1])\n",
        "\n",
        "#Normales y crepitantes.\n",
        "n_c=pd.concat([n,n2]) \n",
        "\n",
        "#Sibilantes y crepitantes.\n",
        "s_c=pd.concat([n1,n2]) \n",
        "\n",
        "#Normales ,crepitantes,sibilantes.\n",
        "n_s_c=pd.concat([n,n1,n2])"
      ],
      "execution_count": null,
      "outputs": []
    },
    {
      "cell_type": "markdown",
      "metadata": {
        "id": "kaqM8i2HAxKK"
      },
      "source": [
        "Los índices característicos utilizados en este trabajo corresponden a unos índices anteriormente extraídos y validados después de haber realizado el preprocesamiento y acondicionamiento de la señal, encontrando que los seis índices obtenidos presentan características estadísticamente diferenciables entre las tres poblaciones de estudio, como lo son los sujetos normales, crepitantes y sibilantes, por lo cual, estos índices resultan significativos a la hora de desarrollar un sistema de clasificación entre los sujetos mencionados a partir de las variaciones de las características en el dominio del tiempo y frecuencia, pues, el propósito de la creación del algoritmo es encontrar patrones entre las variables de entrada y la clase de salida para así ser capaz de aprender nuevos patrones, para clasificarlos y generalizarlos a nuevos ejemplos teniendo así un modelo predictivo acertivo.\n",
        "\n",
        "\n"
      ]
    },
    {
      "cell_type": "markdown",
      "metadata": {
        "id": "xvrSyaX4EzhZ"
      },
      "source": [
        "####**ENTRENAMIENTO DEL MODELO**\n",
        "\n",
        "Con el fin de crear un modelo de aprendizaje automático que sea capaz de clasificar datos conocidos y desconocidos es necesario entrenar el modelo con datos previamente etiquetados para que el algoritmo genere un modelo de clasificación. Posteriormente se hace necesario realizar una etapa de prueba y validación, con el fin de evaluar el desempeño del modelo y que sea capaz de diferenciar datos con los que no ha sido entrenado. \n",
        "\n",
        "Se tuvo en cuenta el 80% de los datos para entrenamiento y el 20% de los datos restantes se dividieron en datos de prueba y validación. \n",
        "\n",
        "Para la creación de las arquitecturas de las redes neuronales se determinó que el número de neuronas de entrada iba a ser igual al número de características más uno, siendo esta de siete, y el número de capas ocultas será mayor a dos, pues a partir de esta cantidad es posible crear un modelo de clasificación. Partiendo de estas condiciones se hacen variaciones en la cantidad de capas ocultas y cantidad de neuronas que estas poseen para así determinar el mejor modelo de red. "
      ]
    },
    {
      "cell_type": "markdown",
      "metadata": {
        "id": "XmpNiILMph2X"
      },
      "source": [
        "####**- Código y análisis de resultados, donde se discutan por los menos tres diferentes arquitecturas de red y las matrices de confusión obtenidas, de una red neuronal que permita la clasificación de ciclos normales vs ciclos con sibilancias.**"
      ]
    },
    {
      "cell_type": "code",
      "metadata": {
        "id": "UQevbVa5phhC"
      },
      "source": [
        "outb = ['Outcome'] \n",
        "predb = list(set(list(n_s.columns))-set(outb))\n",
        "Xb= n_s[predb].values\n",
        "yb = n_s[outb].values\n",
        "\n",
        "#División de los datos para realizar el entrenamiento, validación y prueba.\n",
        "X_b, Xb_val, y_b, yb_val = train_test_split(Xb, yb, test_size=0.20, random_state=40)\n",
        "Xb_train, Xb_test, yb_train, yb_test = train_test_split(X_b, y_b, test_size=0.30, random_state=40)\n",
        "\n",
        "yb_test = np.squeeze(yb_test)\n",
        "yb_train = np.squeeze(yb_train)\n",
        "yb_val=np.squeeze(yb_val)\n"
      ],
      "execution_count": null,
      "outputs": []
    },
    {
      "cell_type": "markdown",
      "metadata": {
        "id": "b8_e624EsRGy"
      },
      "source": [
        "####**- ARQUITECTURA #1**"
      ]
    },
    {
      "cell_type": "code",
      "metadata": {
        "id": "n3iIVdGDsHib"
      },
      "source": [
        "#Creación de la red\n",
        "mlp1 = MLPClassifier(hidden_layer_sizes=(6,6,6), activation='relu', solver='adam', max_iter=1000) \n",
        "\n",
        "#Entrenamiento de la red\n",
        "mlp1.fit(Xb_train,yb_train)\n",
        "predictb_train = mlp1.predict(Xb_train)\n",
        "predictb_test = mlp1.predict(Xb_test)\n",
        "predictb_val = mlp1.predict(Xb_val)"
      ],
      "execution_count": null,
      "outputs": []
    },
    {
      "cell_type": "code",
      "metadata": {
        "colab": {
          "base_uri": "https://localhost:8080/"
        },
        "id": "WCfC1YQXsWfu",
        "outputId": "c57c673d-d365-4250-de64-5638de02ffcd"
      },
      "source": [
        "#Matriz de confusión de entrenamiento\n",
        "print('Matriz de confusión de entrenamiento')\n",
        "print(confusion_matrix(yb_train,predictb_train))\n",
        "targetb_names = ['Normales', 'Sibilantes']\n",
        "print('')\n",
        "print(classification_report(yb_train,predictb_train,target_names=targetb_names))"
      ],
      "execution_count": null,
      "outputs": [
        {
          "output_type": "stream",
          "text": [
            "Matriz de confusión de entrenamiento\n",
            "[[1459   16]\n",
            " [  94  272]]\n",
            "\n",
            "              precision    recall  f1-score   support\n",
            "\n",
            "    Normales       0.94      0.99      0.96      1475\n",
            "  Sibilantes       0.94      0.74      0.83       366\n",
            "\n",
            "    accuracy                           0.94      1841\n",
            "   macro avg       0.94      0.87      0.90      1841\n",
            "weighted avg       0.94      0.94      0.94      1841\n",
            "\n"
          ],
          "name": "stdout"
        }
      ]
    },
    {
      "cell_type": "code",
      "metadata": {
        "colab": {
          "base_uri": "https://localhost:8080/"
        },
        "id": "nAoYjyf-yiYe",
        "outputId": "da7a6d15-59d3-4a4f-ab78-70355a23e148"
      },
      "source": [
        "#Matriz de confusión de prueba\n",
        "print('Matriz de confusión de prueba')\n",
        "print(confusion_matrix(yb_test,predictb_test))\n",
        "targetb_names = ['Normales', 'Sibilantes']\n",
        "print('')\n",
        "print(classification_report(yb_test,predictb_test,target_names=targetb_names))"
      ],
      "execution_count": null,
      "outputs": [
        {
          "output_type": "stream",
          "text": [
            "Matriz de confusión de prueba\n",
            "[[619  10]\n",
            " [ 48 112]]\n",
            "\n",
            "              precision    recall  f1-score   support\n",
            "\n",
            "    Normales       0.93      0.98      0.96       629\n",
            "  Sibilantes       0.92      0.70      0.79       160\n",
            "\n",
            "    accuracy                           0.93       789\n",
            "   macro avg       0.92      0.84      0.87       789\n",
            "weighted avg       0.93      0.93      0.92       789\n",
            "\n"
          ],
          "name": "stdout"
        }
      ]
    },
    {
      "cell_type": "code",
      "metadata": {
        "colab": {
          "base_uri": "https://localhost:8080/"
        },
        "id": "NqylKDBjzMBz",
        "outputId": "f2b771f1-3710-4612-b174-d632293b9ec3"
      },
      "source": [
        "#Matriz de confusión de validación\n",
        "print('Matriz de confusión de validación')\n",
        "print(confusion_matrix(yb_val,predictb_val))\n",
        "targetb_names = ['Normales', 'Sibilantes']\n",
        "print('')\n",
        "print(classification_report(yb_val,predictb_val,target_names=targetb_names))"
      ],
      "execution_count": null,
      "outputs": [
        {
          "output_type": "stream",
          "text": [
            "Matriz de confusión de validación\n",
            "[[516  13]\n",
            " [ 37  92]]\n",
            "\n",
            "              precision    recall  f1-score   support\n",
            "\n",
            "    Normales       0.93      0.98      0.95       529\n",
            "  Sibilantes       0.88      0.71      0.79       129\n",
            "\n",
            "    accuracy                           0.92       658\n",
            "   macro avg       0.90      0.84      0.87       658\n",
            "weighted avg       0.92      0.92      0.92       658\n",
            "\n"
          ],
          "name": "stdout"
        }
      ]
    },
    {
      "cell_type": "markdown",
      "metadata": {
        "id": "PnuttfFPzuN8"
      },
      "source": [
        "####**- ARQUITECTURA #2**"
      ]
    },
    {
      "cell_type": "code",
      "metadata": {
        "id": "Ua3KREWLz1gz"
      },
      "source": [
        "#Creación de la red\n",
        "mlp2 = MLPClassifier(hidden_layer_sizes=(7,7,7),activation='relu', solver='adam', max_iter=1000) \n",
        "mlp2.fit(Xb_train,yb_train)\n",
        "\n",
        "predictb2_train = mlp2.predict(Xb_train)\n",
        "predictb2_test = mlp2.predict(Xb_test)\n",
        "predictb2_val = mlp2.predict(Xb_val)"
      ],
      "execution_count": null,
      "outputs": []
    },
    {
      "cell_type": "code",
      "metadata": {
        "colab": {
          "base_uri": "https://localhost:8080/"
        },
        "id": "wpAZwhRH0JTy",
        "outputId": "c1e2f1bd-e5f8-46ec-b41d-1a4b3fa9f4c2"
      },
      "source": [
        "#Matriz de confusión de entrenamiento\n",
        "print('Matriz de confusión de entrenamiento')\n",
        "print(confusion_matrix(yb_train,predictb2_train))\n",
        "targetb_names = ['Normales', 'Sibilantes']\n",
        "print('')\n",
        "print(classification_report(yb_train,predictb2_train,target_names=targetb_names))"
      ],
      "execution_count": null,
      "outputs": [
        {
          "output_type": "stream",
          "text": [
            "Matriz de confusión de entrenamiento\n",
            "[[1462   13]\n",
            " [ 102  264]]\n",
            "\n",
            "              precision    recall  f1-score   support\n",
            "\n",
            "    Normales       0.93      0.99      0.96      1475\n",
            "  Sibilantes       0.95      0.72      0.82       366\n",
            "\n",
            "    accuracy                           0.94      1841\n",
            "   macro avg       0.94      0.86      0.89      1841\n",
            "weighted avg       0.94      0.94      0.93      1841\n",
            "\n"
          ],
          "name": "stdout"
        }
      ]
    },
    {
      "cell_type": "code",
      "metadata": {
        "colab": {
          "base_uri": "https://localhost:8080/"
        },
        "id": "k5y80hUL4X_K",
        "outputId": "ded087fe-05f2-47c2-cf7f-493f6ed5a17d"
      },
      "source": [
        "#Matriz de confusión de prueba\n",
        "print('Matriz de confusión de prueba')\n",
        "print(confusion_matrix(yb_test,predictb2_test))\n",
        "targetb_names = ['Normales', 'Sibilantes']\n",
        "print('')\n",
        "print(classification_report(yb_test,predictb2_test,target_names=targetb_names))"
      ],
      "execution_count": null,
      "outputs": [
        {
          "output_type": "stream",
          "text": [
            "Matriz de confusión de prueba\n",
            "[[622   7]\n",
            " [ 47 113]]\n",
            "\n",
            "              precision    recall  f1-score   support\n",
            "\n",
            "    Normales       0.93      0.99      0.96       629\n",
            "  Sibilantes       0.94      0.71      0.81       160\n",
            "\n",
            "    accuracy                           0.93       789\n",
            "   macro avg       0.94      0.85      0.88       789\n",
            "weighted avg       0.93      0.93      0.93       789\n",
            "\n"
          ],
          "name": "stdout"
        }
      ]
    },
    {
      "cell_type": "code",
      "metadata": {
        "colab": {
          "base_uri": "https://localhost:8080/"
        },
        "id": "01dEaYqS4Yq4",
        "outputId": "687cd7bd-18aa-4199-9990-ac7a0f20c1cf"
      },
      "source": [
        "#Matriz de confusión de validación\n",
        "print('Matriz de confusión')\n",
        "print(confusion_matrix(yb_val,predictb2_val))\n",
        "targetb_names = ['Normales', 'Sibilantes']\n",
        "print('')\n",
        "print(classification_report(yb_val,predictb2_val,target_names=targetb_names))"
      ],
      "execution_count": null,
      "outputs": [
        {
          "output_type": "stream",
          "text": [
            "Matriz de confusión\n",
            "[[516  13]\n",
            " [ 37  92]]\n",
            "\n",
            "              precision    recall  f1-score   support\n",
            "\n",
            "    Normales       0.93      0.98      0.95       529\n",
            "  Sibilantes       0.88      0.71      0.79       129\n",
            "\n",
            "    accuracy                           0.92       658\n",
            "   macro avg       0.90      0.84      0.87       658\n",
            "weighted avg       0.92      0.92      0.92       658\n",
            "\n"
          ],
          "name": "stdout"
        }
      ]
    },
    {
      "cell_type": "markdown",
      "metadata": {
        "id": "IuObs7w1Wkka"
      },
      "source": [
        "####**- ARQUITECTURA #3**"
      ]
    },
    {
      "cell_type": "code",
      "metadata": {
        "id": "JNcQSM0GWm8G"
      },
      "source": [
        "#Creación de la red\n",
        "mlp3 = MLPClassifier(hidden_layer_sizes=(7,7,7,7),activation='relu', solver='adam', max_iter=1000) \n",
        "mlp3.fit(Xb_train,yb_train)\n",
        "\n",
        "predictb3_train = mlp3.predict(Xb_train)\n",
        "predictb3_test = mlp3.predict(Xb_test)\n",
        "predictb3_val = mlp3.predict(Xb_val)"
      ],
      "execution_count": null,
      "outputs": []
    },
    {
      "cell_type": "code",
      "metadata": {
        "colab": {
          "base_uri": "https://localhost:8080/"
        },
        "id": "7yWQ0sViW620",
        "outputId": "e5bb94e1-c763-42a6-9c4e-1d218dd4f223"
      },
      "source": [
        "#Matriz de confusión de entrenamiento \n",
        "print('Matriz de confusión de entrenamiento')\n",
        "print(confusion_matrix(yb_train,predictb3_train))\n",
        "targetb_names = ['Normales', 'Sibilantes']\n",
        "print('')\n",
        "print(classification_report(yb_train,predictb3_train,target_names=targetb_names))"
      ],
      "execution_count": null,
      "outputs": [
        {
          "output_type": "stream",
          "text": [
            "Matriz de confusión de entrenamiento\n",
            "[[1460   15]\n",
            " [  91  275]]\n",
            "\n",
            "              precision    recall  f1-score   support\n",
            "\n",
            "    Normales       0.94      0.99      0.96      1475\n",
            "  Sibilantes       0.95      0.75      0.84       366\n",
            "\n",
            "    accuracy                           0.94      1841\n",
            "   macro avg       0.94      0.87      0.90      1841\n",
            "weighted avg       0.94      0.94      0.94      1841\n",
            "\n"
          ],
          "name": "stdout"
        }
      ]
    },
    {
      "cell_type": "code",
      "metadata": {
        "colab": {
          "base_uri": "https://localhost:8080/"
        },
        "id": "eNWJD2QAXBA-",
        "outputId": "6408552f-08ae-4531-906d-44dcc9d858db"
      },
      "source": [
        "#Matriz de confusión de prueba\n",
        "print('Matriz de confusión de prueba')\n",
        "print(confusion_matrix(yb_test,predictb3_test))\n",
        "targetb_names = ['Normales', 'Sibilantes']\n",
        "print('')\n",
        "print(classification_report(yb_test,predictb3_test,target_names=targetb_names))"
      ],
      "execution_count": null,
      "outputs": [
        {
          "output_type": "stream",
          "text": [
            "Matriz de confusión de prueba\n",
            "[[622   7]\n",
            " [ 43 117]]\n",
            "\n",
            "              precision    recall  f1-score   support\n",
            "\n",
            "    Normales       0.94      0.99      0.96       629\n",
            "  Sibilantes       0.94      0.73      0.82       160\n",
            "\n",
            "    accuracy                           0.94       789\n",
            "   macro avg       0.94      0.86      0.89       789\n",
            "weighted avg       0.94      0.94      0.93       789\n",
            "\n"
          ],
          "name": "stdout"
        }
      ]
    },
    {
      "cell_type": "code",
      "metadata": {
        "colab": {
          "base_uri": "https://localhost:8080/"
        },
        "id": "ULQ0Y__YXJo1",
        "outputId": "65bee503-b0a5-4305-d8f8-1a10613da358"
      },
      "source": [
        "#Matriz de confusión de validación\n",
        "print('Matriz de confusión de validación')\n",
        "print(confusion_matrix(yb_val,predictb3_val))\n",
        "targetb_names = ['Normales', 'Sibilantes']\n",
        "print('')\n",
        "print(classification_report(yb_val,predictb3_val,target_names=targetb_names))"
      ],
      "execution_count": null,
      "outputs": [
        {
          "output_type": "stream",
          "text": [
            "Matriz de confusión de validación\n",
            "[[518  11]\n",
            " [ 34  95]]\n",
            "\n",
            "              precision    recall  f1-score   support\n",
            "\n",
            "    Normales       0.94      0.98      0.96       529\n",
            "  Sibilantes       0.90      0.74      0.81       129\n",
            "\n",
            "    accuracy                           0.93       658\n",
            "   macro avg       0.92      0.86      0.88       658\n",
            "weighted avg       0.93      0.93      0.93       658\n",
            "\n"
          ],
          "name": "stdout"
        }
      ]
    },
    {
      "cell_type": "markdown",
      "metadata": {
        "id": "1vtXtxFXIgCy"
      },
      "source": [
        "A partir de la evaluación métrica obtenida para cada una de las arquitecturas de clasificación de ciclos normales y sibilantes se encuentra que de un total de 1841 datos de entrenamiento, las tres arquitecturas tienen una exactitud del 94%, por lo tanto, es necesario analizar otras métricas ya que esta no permite determinar cual de ellas es la más acertiva. Las otras métricas a evaluar son la precisión y el f1-score, las cuales miden la proporciones de datos positivos clasificados correctamente y el rendimiento total del algoritmo de clasificación respectivamente. La elección de estas métricas se determinan ya que es importante que el paciente sea diagnósticado correctamente, entonces se determina que la arquitectura con mejor desempeño es la tercera que posee 4 capas ocultas con 7 neuronas cada una. Por otro lado, al analizar la matriz de confusión se encuentra que la cantidad de datos falsos positivos y falsos negativos son significativamente pequeños con relación a los verdaderos positivos y negativos. \n",
        "\n",
        "Finalmente, con el fin de verificar la presencia o no de un sobre-entrenamiento del modelo se evalúan las métricas para los datos anteriomente divididos en validación  y prueba encontrando que la exactitud, la presición y el f1-score, varían muy poco respecto a las metricas obtenidas en el entrenamiento, lo que da cuenta de que el modelo está clasificando correctamente. \n",
        "\n"
      ]
    },
    {
      "cell_type": "markdown",
      "metadata": {
        "id": "FwjuLFl1qKXq"
      },
      "source": [
        "####**- Código y análisis de resultados, donde se discutan por los menos tres diferentes arquitecturas de red y las matrices de confusión obtenidas, de una red neuronal que permita la clasificación de ciclos normales vs ciclos con crepitancias.**"
      ]
    },
    {
      "cell_type": "code",
      "metadata": {
        "id": "EpCIZi6CrCh1"
      },
      "source": [
        "outc = ['Outcome'] \n",
        "predc = list(set(list(n_c.columns))-set(outc))\n",
        "Xc= n_c[predc].values\n",
        "yc = n_c[outc].values\n",
        "#Se dividen los datos en datos para entrenamiento,validación y prueba.\n",
        "X_c, Xc_val, y_c, yc_val = train_test_split(Xc, yc, test_size=0.20, random_state=40)\n",
        "Xc_train, Xc_test, yc_train, yc_test = train_test_split(X_c, y_c, test_size=0.30, random_state=40)\n",
        "\n",
        "yc_test = np.squeeze(yc_test)\n",
        "yc_train = np.squeeze(yc_train)\n",
        "yc_val=np.squeeze(yc_val)"
      ],
      "execution_count": null,
      "outputs": []
    },
    {
      "cell_type": "markdown",
      "metadata": {
        "id": "Sq4jpzLvYTSu"
      },
      "source": [
        "####**- ARQUITECTURA #1**"
      ]
    },
    {
      "cell_type": "code",
      "metadata": {
        "id": "ifDui2x744HL"
      },
      "source": [
        "#Creación de la red\n",
        "mlp1_1 = MLPClassifier(hidden_layer_sizes=(6,6,6), activation='relu', solver='adam', max_iter=1000) \n",
        "#Entrenamiento de la red\n",
        "mlp1_1.fit(Xc_train,yc_train)\n",
        "\n",
        "predictc1_train = mlp1_1.predict(Xc_train)\n",
        "predictc1_test = mlp1_1.predict(Xc_test)\n",
        "predictc1_val = mlp1_1.predict(Xc_val)\n"
      ],
      "execution_count": null,
      "outputs": []
    },
    {
      "cell_type": "code",
      "metadata": {
        "colab": {
          "base_uri": "https://localhost:8080/"
        },
        "id": "bjIWREeR5hSm",
        "outputId": "ac8f4c5a-e6e7-44eb-9090-205c6ff44c5d"
      },
      "source": [
        "#Matriz de confusión de entrenamiento\n",
        "print('Matriz de confusión de entrenamiento')\n",
        "print(confusion_matrix(yc_train,predictc1_train))\n",
        "targetc_names = ['Normales', 'Crepitantes']\n",
        "print('')\n",
        "print(classification_report(yc_train,predictc1_train,target_names=targetc_names))"
      ],
      "execution_count": null,
      "outputs": [
        {
          "output_type": "stream",
          "text": [
            "Matriz de confusión de entrenamiento\n",
            "[[1461   20]\n",
            " [  27  879]]\n",
            "\n",
            "              precision    recall  f1-score   support\n",
            "\n",
            "    Normales       0.98      0.99      0.98      1481\n",
            " Crepitantes       0.98      0.97      0.97       906\n",
            "\n",
            "    accuracy                           0.98      2387\n",
            "   macro avg       0.98      0.98      0.98      2387\n",
            "weighted avg       0.98      0.98      0.98      2387\n",
            "\n"
          ],
          "name": "stdout"
        }
      ]
    },
    {
      "cell_type": "code",
      "metadata": {
        "colab": {
          "base_uri": "https://localhost:8080/"
        },
        "id": "DYRAbsRtVUEG",
        "outputId": "ad6d7820-d082-4b05-848a-b331a64528c2"
      },
      "source": [
        "# Matriz de confusión de prueba\n",
        "print('Matriz de confusión de prueba')\n",
        "print(confusion_matrix(yc_test,predictc1_test))\n",
        "targetc_names = ['Normales', 'Crepitantes']\n",
        "print('')\n",
        "print(classification_report(yc_test,predictc1_test,target_names=targetc_names))"
      ],
      "execution_count": null,
      "outputs": [
        {
          "output_type": "stream",
          "text": [
            "Matriz de confusión de prueba\n",
            "[[638   6]\n",
            " [ 16 364]]\n",
            "\n",
            "              precision    recall  f1-score   support\n",
            "\n",
            "    Normales       0.98      0.99      0.98       644\n",
            " Crepitantes       0.98      0.96      0.97       380\n",
            "\n",
            "    accuracy                           0.98      1024\n",
            "   macro avg       0.98      0.97      0.98      1024\n",
            "weighted avg       0.98      0.98      0.98      1024\n",
            "\n"
          ],
          "name": "stdout"
        }
      ]
    },
    {
      "cell_type": "code",
      "metadata": {
        "colab": {
          "base_uri": "https://localhost:8080/"
        },
        "id": "3weCgkcfVYbG",
        "outputId": "6879faec-b268-4edb-e0ab-20bc9f351161"
      },
      "source": [
        "# Matriz de confusión de validación\n",
        "print('Matriz de confusión de validación')\n",
        "print(confusion_matrix(yc_val,predictc1_val))\n",
        "targetc_names = ['Normales', 'crepitantes']\n",
        "print('')\n",
        "print(classification_report(yc_val,predictc1_val,target_names=targetc_names))"
      ],
      "execution_count": null,
      "outputs": [
        {
          "output_type": "stream",
          "text": [
            "Matriz de confusión de validación\n",
            "[[501   7]\n",
            " [ 17 328]]\n",
            "\n",
            "              precision    recall  f1-score   support\n",
            "\n",
            "    Normales       0.97      0.99      0.98       508\n",
            " crepitantes       0.98      0.95      0.96       345\n",
            "\n",
            "    accuracy                           0.97       853\n",
            "   macro avg       0.97      0.97      0.97       853\n",
            "weighted avg       0.97      0.97      0.97       853\n",
            "\n"
          ],
          "name": "stdout"
        }
      ]
    },
    {
      "cell_type": "markdown",
      "metadata": {
        "id": "7PkWxt3QYzB7"
      },
      "source": [
        "####**- ARQUITECTURA #2**"
      ]
    },
    {
      "cell_type": "code",
      "metadata": {
        "id": "rs5lAWdcY5qE"
      },
      "source": [
        "#Creación de la red\n",
        "mlp1_2 = MLPClassifier(hidden_layer_sizes=(7,7,7), activation='relu', solver='adam', max_iter=1000) \n",
        "#Entrenamiento de la red\n",
        "mlp1_2.fit(Xc_train,yc_train)\n",
        "\n",
        "predictc2_train = mlp1_2.predict(Xc_train)\n",
        "predictc2_test = mlp1_2.predict(Xc_test)\n",
        "predictc2_val = mlp1_2.predict(Xc_val)"
      ],
      "execution_count": null,
      "outputs": []
    },
    {
      "cell_type": "code",
      "metadata": {
        "colab": {
          "base_uri": "https://localhost:8080/"
        },
        "id": "OdaZscOdY-B6",
        "outputId": "8ddc5ed1-f133-487a-fe0e-d686afd6dc61"
      },
      "source": [
        "#Matriz de confusión de entrenamiento\n",
        "print('Matriz de confusión de entrenamiento')\n",
        "print(confusion_matrix(yc_train,predictc2_train))\n",
        "targetc_names = ['Normales', 'Crepitantes']\n",
        "print('')\n",
        "print(classification_report(yc_train,predictc2_train,target_names=targetc_names))"
      ],
      "execution_count": null,
      "outputs": [
        {
          "output_type": "stream",
          "text": [
            "Matriz de confusión de entrenamiento\n",
            "[[1464   17]\n",
            " [  35  871]]\n",
            "\n",
            "              precision    recall  f1-score   support\n",
            "\n",
            "    Normales       0.98      0.99      0.98      1481\n",
            " Crepitantes       0.98      0.96      0.97       906\n",
            "\n",
            "    accuracy                           0.98      2387\n",
            "   macro avg       0.98      0.97      0.98      2387\n",
            "weighted avg       0.98      0.98      0.98      2387\n",
            "\n"
          ],
          "name": "stdout"
        }
      ]
    },
    {
      "cell_type": "code",
      "metadata": {
        "colab": {
          "base_uri": "https://localhost:8080/"
        },
        "id": "o7oCcHJSZGH-",
        "outputId": "8f188760-f2be-43d6-e45b-f6dd308a8901"
      },
      "source": [
        "#Matriz de confusión de prueba\n",
        "print('Matriz de confusión de prueba')\n",
        "print(confusion_matrix(yc_test,predictc2_test))\n",
        "targetc_names = ['Normales', 'Crepitantes']\n",
        "print('')\n",
        "print(classification_report(yc_test,predictc2_test,target_names=targetc_names))"
      ],
      "execution_count": null,
      "outputs": [
        {
          "output_type": "stream",
          "text": [
            "Matriz de confusión de prueba\n",
            "[[638   6]\n",
            " [ 15 365]]\n",
            "\n",
            "              precision    recall  f1-score   support\n",
            "\n",
            "    Normales       0.98      0.99      0.98       644\n",
            " Crepitantes       0.98      0.96      0.97       380\n",
            "\n",
            "    accuracy                           0.98      1024\n",
            "   macro avg       0.98      0.98      0.98      1024\n",
            "weighted avg       0.98      0.98      0.98      1024\n",
            "\n"
          ],
          "name": "stdout"
        }
      ]
    },
    {
      "cell_type": "code",
      "metadata": {
        "colab": {
          "base_uri": "https://localhost:8080/"
        },
        "id": "3l80k-WEaCrX",
        "outputId": "180b97ee-fbd0-4b86-bbbf-dd567c780089"
      },
      "source": [
        "# Matriz de confusión de validación\n",
        "print('Matriz de confusión de validación')\n",
        "print(confusion_matrix(yc_val,predictc2_val))\n",
        "targetc_names = ['Normales', 'Crepitantes']\n",
        "print('')\n",
        "print(classification_report(yc_val,predictc2_val,target_names=targetc_names))"
      ],
      "execution_count": null,
      "outputs": [
        {
          "output_type": "stream",
          "text": [
            "Matriz de confusión de validación\n",
            "[[501   7]\n",
            " [ 20 325]]\n",
            "\n",
            "              precision    recall  f1-score   support\n",
            "\n",
            "    Normales       0.96      0.99      0.97       508\n",
            " Crepitantes       0.98      0.94      0.96       345\n",
            "\n",
            "    accuracy                           0.97       853\n",
            "   macro avg       0.97      0.96      0.97       853\n",
            "weighted avg       0.97      0.97      0.97       853\n",
            "\n"
          ],
          "name": "stdout"
        }
      ]
    },
    {
      "cell_type": "markdown",
      "metadata": {
        "id": "N6mYJ4O0aPVO"
      },
      "source": [
        "####**- ARQUITECTURA #3**"
      ]
    },
    {
      "cell_type": "code",
      "metadata": {
        "id": "gSSRxdx4aTWL"
      },
      "source": [
        "#Creación de la red\n",
        "mlp1_3 = MLPClassifier(hidden_layer_sizes=(7,7,7,7), activation='relu', solver='adam', max_iter=1000) \n",
        "#Entrenamiento de la red\n",
        "mlp1_3.fit(Xc_train,yc_train)\n",
        "\n",
        "predictc3_train = mlp1_3.predict(Xc_train)\n",
        "predictc3_test = mlp1_3.predict(Xc_test)\n",
        "predictc3_val = mlp1_3.predict(Xc_val)"
      ],
      "execution_count": null,
      "outputs": []
    },
    {
      "cell_type": "code",
      "metadata": {
        "colab": {
          "base_uri": "https://localhost:8080/"
        },
        "id": "CpI3Aig2ak2N",
        "outputId": "551a752f-bf15-44c3-9634-e0fcb874997c"
      },
      "source": [
        "#Matriz de confusión de entrenamiento\n",
        "print('Matriz de confusión de entrenamiento')\n",
        "print(confusion_matrix(yc_train,predictc3_train))\n",
        "targetc_names = ['Normales', 'Crepitantes']\n",
        "print('')\n",
        "print(classification_report(yc_train,predictc3_train,target_names=targetc_names))"
      ],
      "execution_count": null,
      "outputs": [
        {
          "output_type": "stream",
          "text": [
            "Matriz de confusión de entrenamiento\n",
            "[[1464   17]\n",
            " [  54  852]]\n",
            "\n",
            "              precision    recall  f1-score   support\n",
            "\n",
            "    Normales       0.96      0.99      0.98      1481\n",
            " Crepitantes       0.98      0.94      0.96       906\n",
            "\n",
            "    accuracy                           0.97      2387\n",
            "   macro avg       0.97      0.96      0.97      2387\n",
            "weighted avg       0.97      0.97      0.97      2387\n",
            "\n"
          ],
          "name": "stdout"
        }
      ]
    },
    {
      "cell_type": "code",
      "metadata": {
        "colab": {
          "base_uri": "https://localhost:8080/"
        },
        "id": "tcXL8Q_IatME",
        "outputId": "b4bfc74f-0999-4f6e-b454-6983d4d8a9b3"
      },
      "source": [
        "#Matriz de confusión de prueba\n",
        "print('Matriz de confusión de prueba')\n",
        "print(confusion_matrix(yc_test,predictc3_test))\n",
        "targetc_names = ['Normales', 'Crepitantes']\n",
        "print('')\n",
        "print(classification_report(yc_test,predictc3_test,target_names=targetc_names))"
      ],
      "execution_count": null,
      "outputs": [
        {
          "output_type": "stream",
          "text": [
            "Matriz de confusión de prueba\n",
            "[[635   9]\n",
            " [ 17 363]]\n",
            "\n",
            "              precision    recall  f1-score   support\n",
            "\n",
            "    Normales       0.97      0.99      0.98       644\n",
            " Crepitantes       0.98      0.96      0.97       380\n",
            "\n",
            "    accuracy                           0.97      1024\n",
            "   macro avg       0.97      0.97      0.97      1024\n",
            "weighted avg       0.97      0.97      0.97      1024\n",
            "\n"
          ],
          "name": "stdout"
        }
      ]
    },
    {
      "cell_type": "code",
      "metadata": {
        "colab": {
          "base_uri": "https://localhost:8080/"
        },
        "id": "Csv95WbOa1Qz",
        "outputId": "7462d18e-a758-4efe-ced9-8b491645975b"
      },
      "source": [
        "#Matriz de confusión de validación\n",
        "print('Matriz de confusión de validación')\n",
        "print(confusion_matrix(yc_val,predictc3_val))\n",
        "targetc_names = ['Normales', 'Crepitantes']\n",
        "print('')\n",
        "print(classification_report(yc_val,predictc3_val,target_names=targetc_names))"
      ],
      "execution_count": null,
      "outputs": [
        {
          "output_type": "stream",
          "text": [
            "Matriz de confusión de validación\n",
            "[[501   7]\n",
            " [ 24 321]]\n",
            "\n",
            "              precision    recall  f1-score   support\n",
            "\n",
            "    Normales       0.95      0.99      0.97       508\n",
            " Crepitantes       0.98      0.93      0.95       345\n",
            "\n",
            "    accuracy                           0.96       853\n",
            "   macro avg       0.97      0.96      0.96       853\n",
            "weighted avg       0.96      0.96      0.96       853\n",
            "\n"
          ],
          "name": "stdout"
        }
      ]
    },
    {
      "cell_type": "markdown",
      "metadata": {
        "id": "OTyEJQYPk3JV"
      },
      "source": [
        "A partir de la evaluación métrica obtenida para cada una de las arquitecturas de clasificación de ciclos normales y crepitantes se encuentra que de un total de 2387 datos de entrenamiento, dos de las arquitecturas evaluadas tienen una exactitud del 98%, siendo la tercera inferior a este valor, por lo tanto, es necesario analizar otras métricas ya que esta no permite determinar cual de las dos es la más acertiva. Para esto, nuevamente se evalúa la precisión y el f1-score. La elección de estas métricas está relacionada al correcto diagnóstico para el paciente, encontrando que para la métrica f1-score y precisión se obtienen resultados mas cercanos a 1 para la arquitectura #2 que posee 3 capas ocultas con 7 neuronas cada una. Por otro lado, al analizar la matriz de confusión se encuentra que la cantidad de datos falsos positivos y falsos negativos son significativamente pequeños con relación a los verdaderos positivos y negativos. \n",
        "\n",
        "Para verificar que la red esté entrenada de manera eficaz se evalúan las métricas para los datos de validación y prueba encontrando que la exactitud, la presición y el f1-score, varían muy poco respecto a las metricas obtenidas en el entrenamiento, lo que da cuenta de que el modelo está clasificando correctamente y no presenta sobre-entrenamiento."
      ]
    },
    {
      "cell_type": "markdown",
      "metadata": {
        "id": "uv_2pqglqPqu"
      },
      "source": [
        "####**- Código y análisis de resultados, donde se discutan por los menos tres diferentes arquitecturas de red y las matrices de confusión obtenidas, de una red neuronal que permita la clasificación de ciclos con sibilancias vs ciclos con crepitancias.**"
      ]
    },
    {
      "cell_type": "code",
      "metadata": {
        "id": "XMhwxGhdrbRe"
      },
      "source": [
        "outd = ['Outcome'] \n",
        "predd = list(set(list(s_c.columns))-set(outd))\n",
        "Xd= s_c[predd].values\n",
        "yd = s_c[outd].values\n",
        "#Se dividen los datos en datos para entrenamiento,validación y prueba.\n",
        "X_d, Xd_val, y_d, yd_val = train_test_split(Xd, yd, test_size=0.20, random_state=40)\n",
        "Xd_train, Xd_test, yd_train, yd_test = train_test_split(X_d, y_d, test_size=0.30, random_state=40)\n",
        "\n",
        "yd_test = np.squeeze(yd_test)\n",
        "yd_train = np.squeeze(yd_train)\n",
        "yd_val=np.squeeze(yd_val)"
      ],
      "execution_count": null,
      "outputs": []
    },
    {
      "cell_type": "markdown",
      "metadata": {
        "id": "GtEnzXiEbbQv"
      },
      "source": [
        "####**- ARQUITECTURA #1**"
      ]
    },
    {
      "cell_type": "code",
      "metadata": {
        "id": "T68D_jlmbePf"
      },
      "source": [
        "#Creación de la red\n",
        "mlp2_1 = MLPClassifier(hidden_layer_sizes=(6,6,6), activation='relu', solver='adam', max_iter=1000) \n",
        "#Entrenamiento de la red\n",
        "mlp2_1.fit(Xd_train,yd_train)\n",
        "\n",
        "predictd1_train = mlp2_1.predict(Xd_train)\n",
        "predictd1_test = mlp2_1.predict(Xd_test)\n",
        "predictd1_val = mlp2_1.predict(Xd_val)"
      ],
      "execution_count": null,
      "outputs": []
    },
    {
      "cell_type": "code",
      "metadata": {
        "colab": {
          "base_uri": "https://localhost:8080/"
        },
        "id": "FQSX0XNxb1Vm",
        "outputId": "ecd2e1dd-ca78-4a95-fd0a-f7d6bdf14a68"
      },
      "source": [
        "#Matriz de confusión de entrenamiento\n",
        "print('Matriz de confusión de entrenamiento')\n",
        "print(confusion_matrix(yd_train,predictd1_train))\n",
        "targetd_names = ['Sibilantes', 'Crepitantes']\n",
        "print('')\n",
        "print(classification_report(yd_train,predictd1_train,target_names=targetd_names))"
      ],
      "execution_count": null,
      "outputs": [
        {
          "output_type": "stream",
          "text": [
            "Matriz de confusión de entrenamiento\n",
            "[[344  16]\n",
            " [ 20 899]]\n",
            "\n",
            "              precision    recall  f1-score   support\n",
            "\n",
            "  Sibilantes       0.95      0.96      0.95       360\n",
            " Crepitantes       0.98      0.98      0.98       919\n",
            "\n",
            "    accuracy                           0.97      1279\n",
            "   macro avg       0.96      0.97      0.97      1279\n",
            "weighted avg       0.97      0.97      0.97      1279\n",
            "\n"
          ],
          "name": "stdout"
        }
      ]
    },
    {
      "cell_type": "code",
      "metadata": {
        "colab": {
          "base_uri": "https://localhost:8080/"
        },
        "id": "e6zWQ27ScLLz",
        "outputId": "6a39bebb-15bb-4b5e-ffcd-e2223e943699"
      },
      "source": [
        "#Matriz de confusión de prueba\n",
        "print('Matriz de confusión de prueba')\n",
        "print(confusion_matrix(yd_test,predictd1_test))\n",
        "targetd_names = ['Sibilantes', 'Crepitantes']\n",
        "print('')\n",
        "print(classification_report(yd_test,predictd1_test,target_names=targetd_names))"
      ],
      "execution_count": null,
      "outputs": [
        {
          "output_type": "stream",
          "text": [
            "Matriz de confusión de prueba\n",
            "[[159   5]\n",
            " [  3 382]]\n",
            "\n",
            "              precision    recall  f1-score   support\n",
            "\n",
            "  Sibilantes       0.98      0.97      0.98       164\n",
            " Crepitantes       0.99      0.99      0.99       385\n",
            "\n",
            "    accuracy                           0.99       549\n",
            "   macro avg       0.98      0.98      0.98       549\n",
            "weighted avg       0.99      0.99      0.99       549\n",
            "\n"
          ],
          "name": "stdout"
        }
      ]
    },
    {
      "cell_type": "code",
      "metadata": {
        "colab": {
          "base_uri": "https://localhost:8080/"
        },
        "id": "o3UH5Bo3cZZe",
        "outputId": "fc6df1a8-409e-4f20-b157-4a01e34a6477"
      },
      "source": [
        "#Matriz de confusión de validación\n",
        "print('Matriz de confusión de validación')\n",
        "print(confusion_matrix(yd_val,predictd1_val))\n",
        "targetd_names = ['Sibilantes', 'Crepitantes']\n",
        "print('')\n",
        "print(classification_report(yd_val,predictd1_val,target_names=targetd_names))"
      ],
      "execution_count": null,
      "outputs": [
        {
          "output_type": "stream",
          "text": [
            "Matriz de confusión de validación\n",
            "[[123   8]\n",
            " [  4 323]]\n",
            "\n",
            "              precision    recall  f1-score   support\n",
            "\n",
            "  Sibilantes       0.97      0.94      0.95       131\n",
            " Crepitantes       0.98      0.99      0.98       327\n",
            "\n",
            "    accuracy                           0.97       458\n",
            "   macro avg       0.97      0.96      0.97       458\n",
            "weighted avg       0.97      0.97      0.97       458\n",
            "\n"
          ],
          "name": "stdout"
        }
      ]
    },
    {
      "cell_type": "markdown",
      "metadata": {
        "id": "aMnSu4BlcjEA"
      },
      "source": [
        "####**- ARQUITECTURA #2**"
      ]
    },
    {
      "cell_type": "code",
      "metadata": {
        "id": "wrFt276icmVO"
      },
      "source": [
        "#Creación de la red\n",
        "mlp2_2 = MLPClassifier(hidden_layer_sizes=(7,7,7), activation='relu', solver='adam', max_iter=1000) \n",
        "#Entrenamiento de la red\n",
        "mlp2_2.fit(Xd_train,yd_train)\n",
        "\n",
        "predictd2_train = mlp2_2.predict(Xd_train)\n",
        "predictd2_test = mlp2_2.predict(Xd_test)\n",
        "predictd2_val = mlp2_2.predict(Xd_val)"
      ],
      "execution_count": null,
      "outputs": []
    },
    {
      "cell_type": "code",
      "metadata": {
        "colab": {
          "base_uri": "https://localhost:8080/"
        },
        "id": "WI5fyS2ccv5m",
        "outputId": "d816c1c3-8bf7-443f-f48b-2dcd18d72515"
      },
      "source": [
        "#Matriz de confusión de entrenamiento\n",
        "print('Matriz de confusión de entrenamiento')\n",
        "print(confusion_matrix(yd_train,predictd2_train))\n",
        "targetd_names = ['Sibilantes', 'Crepitantes']\n",
        "print('')\n",
        "print(classification_report(yd_train,predictd2_train,target_names=targetd_names))"
      ],
      "execution_count": null,
      "outputs": [
        {
          "output_type": "stream",
          "text": [
            "Matriz de confusión de entrenamiento\n",
            "[[336  24]\n",
            " [  9 910]]\n",
            "\n",
            "              precision    recall  f1-score   support\n",
            "\n",
            "  Sibilantes       0.97      0.93      0.95       360\n",
            " Crepitantes       0.97      0.99      0.98       919\n",
            "\n",
            "    accuracy                           0.97      1279\n",
            "   macro avg       0.97      0.96      0.97      1279\n",
            "weighted avg       0.97      0.97      0.97      1279\n",
            "\n"
          ],
          "name": "stdout"
        }
      ]
    },
    {
      "cell_type": "code",
      "metadata": {
        "colab": {
          "base_uri": "https://localhost:8080/"
        },
        "id": "jnzVwXekc7yr",
        "outputId": "5a38ab72-3a88-4052-c701-82ea23518901"
      },
      "source": [
        "#Matriz de confusión de prueba\n",
        "print('Matriz de confusión de prueba')\n",
        "print(confusion_matrix(yd_test,predictd2_test))\n",
        "targetd_names = ['Sibilantes', 'Crepitantes']\n",
        "print('')\n",
        "print(classification_report(yd_test,predictd2_test,target_names=targetd_names))"
      ],
      "execution_count": null,
      "outputs": [
        {
          "output_type": "stream",
          "text": [
            "Matriz de confusión de prueba\n",
            "[[159   5]\n",
            " [  2 383]]\n",
            "\n",
            "              precision    recall  f1-score   support\n",
            "\n",
            "  Sibilantes       0.99      0.97      0.98       164\n",
            " Crepitantes       0.99      0.99      0.99       385\n",
            "\n",
            "    accuracy                           0.99       549\n",
            "   macro avg       0.99      0.98      0.98       549\n",
            "weighted avg       0.99      0.99      0.99       549\n",
            "\n"
          ],
          "name": "stdout"
        }
      ]
    },
    {
      "cell_type": "code",
      "metadata": {
        "colab": {
          "base_uri": "https://localhost:8080/"
        },
        "id": "36InkPlzdFz-",
        "outputId": "66e7ced3-2f7e-4644-eef4-9f188196ce8b"
      },
      "source": [
        "#Matriz de confusión de validación\n",
        "print('Matriz de confusión de validación')\n",
        "print(confusion_matrix(yd_val,predictd2_val))\n",
        "targetd_names = ['sibilantes', 'Crepitantes']\n",
        "print('')\n",
        "print(classification_report(yd_val,predictd2_val,target_names=targetd_names))"
      ],
      "execution_count": null,
      "outputs": [
        {
          "output_type": "stream",
          "text": [
            "Matriz de confusión de validación\n",
            "[[122   9]\n",
            " [  5 322]]\n",
            "\n",
            "              precision    recall  f1-score   support\n",
            "\n",
            "  sibilantes       0.96      0.93      0.95       131\n",
            " Crepitantes       0.97      0.98      0.98       327\n",
            "\n",
            "    accuracy                           0.97       458\n",
            "   macro avg       0.97      0.96      0.96       458\n",
            "weighted avg       0.97      0.97      0.97       458\n",
            "\n"
          ],
          "name": "stdout"
        }
      ]
    },
    {
      "cell_type": "markdown",
      "metadata": {
        "id": "p5XVXjxNdUnA"
      },
      "source": [
        "####**- ARQUITECTURA #3**"
      ]
    },
    {
      "cell_type": "code",
      "metadata": {
        "id": "UxgDEGG7dcE9"
      },
      "source": [
        "#Creación de la red\n",
        "mlp2_3 = MLPClassifier(hidden_layer_sizes=(7,7,7,7), activation='relu', solver='adam', max_iter=1000) \n",
        "#Entrenamiento de la red\n",
        "mlp2_3.fit(Xd_train,yd_train)\n",
        "\n",
        "predictd3_train = mlp2_3.predict(Xd_train)\n",
        "predictd3_test = mlp2_3.predict(Xd_test)\n",
        "predictd3_val = mlp2_3.predict(Xd_val)"
      ],
      "execution_count": null,
      "outputs": []
    },
    {
      "cell_type": "code",
      "metadata": {
        "colab": {
          "base_uri": "https://localhost:8080/"
        },
        "id": "pGCGnt-7dp6l",
        "outputId": "30b90226-59c1-4222-9a72-41f9fc6378b2"
      },
      "source": [
        "#Matriz de confusión de entrenamiento\n",
        "print('Matriz de confusión de entrenamiento')\n",
        "print(confusion_matrix(yd_train,predictd3_train))\n",
        "targetd_names = ['Sibilantes', 'Crepitantes']\n",
        "print('')\n",
        "print(classification_report(yd_train,predictd3_train,target_names=targetd_names))"
      ],
      "execution_count": null,
      "outputs": [
        {
          "output_type": "stream",
          "text": [
            "Matriz de confusión de entrenamiento\n",
            "[[341  19]\n",
            " [ 10 909]]\n",
            "\n",
            "              precision    recall  f1-score   support\n",
            "\n",
            "  Sibilantes       0.97      0.95      0.96       360\n",
            " Crepitantes       0.98      0.99      0.98       919\n",
            "\n",
            "    accuracy                           0.98      1279\n",
            "   macro avg       0.98      0.97      0.97      1279\n",
            "weighted avg       0.98      0.98      0.98      1279\n",
            "\n"
          ],
          "name": "stdout"
        }
      ]
    },
    {
      "cell_type": "code",
      "metadata": {
        "colab": {
          "base_uri": "https://localhost:8080/"
        },
        "id": "eYkoIMVKd8w5",
        "outputId": "f77a9acf-515a-43b0-d763-70c4e0d800ee"
      },
      "source": [
        "#Matriz de confusión de prueba\n",
        "print('Matriz de confusión de prueba')\n",
        "print(confusion_matrix(yd_test,predictd3_test))\n",
        "targetd_names = ['sibilantes', 'Crepitantes']\n",
        "print('')\n",
        "print(classification_report(yd_test,predictd3_test,target_names=targetd_names))"
      ],
      "execution_count": null,
      "outputs": [
        {
          "output_type": "stream",
          "text": [
            "Matriz de confusión de prueba\n",
            "[[159   5]\n",
            " [  4 381]]\n",
            "\n",
            "              precision    recall  f1-score   support\n",
            "\n",
            "  sibilantes       0.98      0.97      0.97       164\n",
            " Crepitantes       0.99      0.99      0.99       385\n",
            "\n",
            "    accuracy                           0.98       549\n",
            "   macro avg       0.98      0.98      0.98       549\n",
            "weighted avg       0.98      0.98      0.98       549\n",
            "\n"
          ],
          "name": "stdout"
        }
      ]
    },
    {
      "cell_type": "code",
      "metadata": {
        "colab": {
          "base_uri": "https://localhost:8080/"
        },
        "id": "ikuLfboqeKzt",
        "outputId": "34c47112-68ec-4c2c-aff9-79a70a589d99"
      },
      "source": [
        "#Matriz de confusión de validación\n",
        "print('Matriz de confusión de validación')\n",
        "print(confusion_matrix(yd_val,predictd3_val))\n",
        "targetd_names = ['Sibilantes', 'Crepitantes']\n",
        "print('')\n",
        "print(classification_report(yd_val,predictd3_val,target_names=targetd_names))"
      ],
      "execution_count": null,
      "outputs": [
        {
          "output_type": "stream",
          "text": [
            "Matriz de confusión de validación\n",
            "[[124   7]\n",
            " [  5 322]]\n",
            "\n",
            "              precision    recall  f1-score   support\n",
            "\n",
            "  Sibilantes       0.96      0.95      0.95       131\n",
            " Crepitantes       0.98      0.98      0.98       327\n",
            "\n",
            "    accuracy                           0.97       458\n",
            "   macro avg       0.97      0.97      0.97       458\n",
            "weighted avg       0.97      0.97      0.97       458\n",
            "\n"
          ],
          "name": "stdout"
        }
      ]
    },
    {
      "cell_type": "markdown",
      "metadata": {
        "id": "D3-I6oAfp3NG"
      },
      "source": [
        "A partir de la evaluación métrica obtenida para cada una de las arquitecturas de clasificación de ciclos sibilantes y crepitantes se encuentra que de un total de 1279 datos de entrenamiento, dos de las arquitecturas evaluadas tienen una exactitud del 98%, siendo la tercera inferior a este valor, por lo tanto, se analizan otras métricas para determinar cual de las dos es la más acertiva, evaluando la precisión y el f1-score, ya que es importante poder diferenciar entre las dos afecciones respiratorias para aplicar el correcto tratamiento según el diagnóstico, encontrando que para la métrica f1-score y precisión se obtienen resultados mas cercanos a 1 para la arquitectura #3 que posee 4 capas ocultas con 7 neuronas cada una. Además, la matriz de confusión indica que la cantidad de datos falsos positivos y falsos negativos son significativamente pequeños con relación a los verdaderos positivos y negativos. \n",
        "\n",
        "Adicionalmente, al observar las métricas de exactitud presición y f1-score, para los datos de validación y prueba se presenta una diferencia insignificante con respecto a las metricas de entrenamiento, concluyendo que el modelo está clasificando correctamente y no presenta sobre-entrenamiento."
      ]
    },
    {
      "cell_type": "markdown",
      "metadata": {
        "id": "fB9CB3e6qV_K"
      },
      "source": [
        "#### **- Código y análisis de resultados, donde se discutan por los menos tres diferentes arquitecturas de red y las matrices de confusión obtenidas, de una red neuronal que permita la clasificación de ciclos normales, ciclos con crepitancias y ciclos con sibilancias.**"
      ]
    },
    {
      "cell_type": "code",
      "metadata": {
        "id": "_MRW32FNd8Nt"
      },
      "source": [
        "oute = ['Outcome'] \n",
        "prede = list(set(list(n_s_c.columns))-set(oute))\n",
        "X = n_s_c[prede].values\n",
        "y = n_s_c[oute].values\n",
        "#Se dividen los datos en datos para entrenamiento,validación y prueba.\n",
        "X_, X_val, y_, y_val = train_test_split(X, y, test_size=0.20, random_state=40)\n",
        "X_train, X_test, y_train, y_test = train_test_split(X_, y_, test_size=0.30, random_state=40)\n",
        "\n",
        "y_test = np.squeeze(y_test)\n",
        "y_train = np.squeeze(y_train)\n",
        "y_val=np.squeeze(y_val)"
      ],
      "execution_count": null,
      "outputs": []
    },
    {
      "cell_type": "markdown",
      "metadata": {
        "id": "jy6d-LedfTsl"
      },
      "source": [
        "####**- ARQUITECTURA #1**"
      ]
    },
    {
      "cell_type": "code",
      "metadata": {
        "id": "6wQsr4a9fBoT"
      },
      "source": [
        "#Creación de la red \n",
        "mlp3_1 = MLPClassifier(hidden_layer_sizes=(8,8,8), activation='relu', solver='adam', max_iter=1000) \n",
        "#Entrenamiento de la red\n",
        "mlp3_1.fit(X_train,y_train)\n",
        "\n",
        "predict1_train = mlp3_1.predict(X_train)\n",
        "predict1_test = mlp3_1.predict(X_test)\n",
        "predict1_val = mlp3_1.predict(X_val)"
      ],
      "execution_count": null,
      "outputs": []
    },
    {
      "cell_type": "code",
      "metadata": {
        "colab": {
          "base_uri": "https://localhost:8080/"
        },
        "id": "4F38ikIQfPS5",
        "outputId": "5aa4f9a8-2fb4-43eb-877f-02daae54108a"
      },
      "source": [
        "#Matriz de confusión de entrenamiento\n",
        "print('Matriz de confusión')\n",
        "print(confusion_matrix(y_train,predict1_train))\n",
        "target_names = ['Normales','Sibilantes', 'Crepitantes']\n",
        "print('')\n",
        "print(classification_report(y_train,predict1_train,target_names=target_names))"
      ],
      "execution_count": null,
      "outputs": [
        {
          "output_type": "stream",
          "text": [
            "Matriz de confusión\n",
            "[[1453   28   17]\n",
            " [  78  272    8]\n",
            " [  34    6  858]]\n",
            "\n",
            "              precision    recall  f1-score   support\n",
            "\n",
            "    Normales       0.93      0.97      0.95      1498\n",
            "  Sibilantes       0.89      0.76      0.82       358\n",
            " Crepitantes       0.97      0.96      0.96       898\n",
            "\n",
            "    accuracy                           0.94      2754\n",
            "   macro avg       0.93      0.90      0.91      2754\n",
            "weighted avg       0.94      0.94      0.94      2754\n",
            "\n"
          ],
          "name": "stdout"
        }
      ]
    },
    {
      "cell_type": "code",
      "metadata": {
        "colab": {
          "base_uri": "https://localhost:8080/"
        },
        "id": "pKMO2tGVgHLf",
        "outputId": "fbd271bd-17fc-4d1a-c9bf-ea4cb0901dcd"
      },
      "source": [
        "#Matriz de confusión de prueba\n",
        "print('Matriz de confusión')\n",
        "print(confusion_matrix(y_test,predict1_test))\n",
        "target_names = ['Normales','Sibilantes','Crepitantes']\n",
        "print('')\n",
        "print(classification_report(y_test,predict1_test,target_names=target_names))"
      ],
      "execution_count": null,
      "outputs": [
        {
          "output_type": "stream",
          "text": [
            "Matriz de confusión\n",
            "[[598  16   6]\n",
            " [ 34 119   7]\n",
            " [ 20   5 376]]\n",
            "\n",
            "              precision    recall  f1-score   support\n",
            "\n",
            "    Normales       0.92      0.96      0.94       620\n",
            "  Sibilantes       0.85      0.74      0.79       160\n",
            " Crepitantes       0.97      0.94      0.95       401\n",
            "\n",
            "    accuracy                           0.93      1181\n",
            "   macro avg       0.91      0.88      0.90      1181\n",
            "weighted avg       0.92      0.93      0.92      1181\n",
            "\n"
          ],
          "name": "stdout"
        }
      ]
    },
    {
      "cell_type": "code",
      "metadata": {
        "colab": {
          "base_uri": "https://localhost:8080/"
        },
        "id": "9ARbtWwtgQdv",
        "outputId": "77a24613-3349-4e55-a563-654e5cabeb5f"
      },
      "source": [
        "#Matriz de confusión de validación\n",
        "print('Matriz de confusión')\n",
        "print(confusion_matrix(y_val,predict1_val))\n",
        "target_names = ['Normales','Sibilantes', 'Crepitantes']\n",
        "print('')\n",
        "print(classification_report(y_val,predict1_val,target_names=target_names))"
      ],
      "execution_count": null,
      "outputs": [
        {
          "output_type": "stream",
          "text": [
            "Matriz de confusión\n",
            "[[494  16   5]\n",
            " [ 39  93   5]\n",
            " [ 16   2 314]]\n",
            "\n",
            "              precision    recall  f1-score   support\n",
            "\n",
            "    Normales       0.90      0.96      0.93       515\n",
            "  Sibilantes       0.84      0.68      0.75       137\n",
            " Crepitantes       0.97      0.95      0.96       332\n",
            "\n",
            "    accuracy                           0.92       984\n",
            "   macro avg       0.90      0.86      0.88       984\n",
            "weighted avg       0.91      0.92      0.91       984\n",
            "\n"
          ],
          "name": "stdout"
        }
      ]
    },
    {
      "cell_type": "markdown",
      "metadata": {
        "id": "OguYuDoihIsI"
      },
      "source": [
        "####**- ARQUITECTURA #2**"
      ]
    },
    {
      "cell_type": "code",
      "metadata": {
        "id": "VMph7DXQhIsK"
      },
      "source": [
        "#Creación de la red\n",
        "mlp3_2 = MLPClassifier(hidden_layer_sizes=(10,10,10), activation='relu', solver='adam', max_iter=1000) \n",
        "#Entrenamiento de la red\n",
        "mlp3_2.fit(X_train,y_train)\n",
        "\n",
        "predict2_train = mlp3_2.predict(X_train)\n",
        "predict2_test = mlp3_2.predict(X_test)\n",
        "predict2_val = mlp3_2.predict(X_val)"
      ],
      "execution_count": null,
      "outputs": []
    },
    {
      "cell_type": "code",
      "metadata": {
        "colab": {
          "base_uri": "https://localhost:8080/"
        },
        "id": "SE1UufAMhIsL",
        "outputId": "45c74b1f-7a77-4237-d13b-10fecb3d68eb"
      },
      "source": [
        "#Matriz de confusión de entrenamiento\n",
        "print('Matriz de confusión de entrenamiento')\n",
        "print(confusion_matrix(y_train,predict2_train))\n",
        "target_names = ['Normales','Sibilantes', 'Crepitantes']\n",
        "print('')\n",
        "print(classification_report(y_train,predict2_train,target_names=target_names))"
      ],
      "execution_count": null,
      "outputs": [
        {
          "output_type": "stream",
          "text": [
            "Matriz de confusión de entrenamiento\n",
            "[[1458   24   16]\n",
            " [  76  273    9]\n",
            " [  18    7  873]]\n",
            "\n",
            "              precision    recall  f1-score   support\n",
            "\n",
            "    Normales       0.94      0.97      0.96      1498\n",
            "  Sibilantes       0.90      0.76      0.82       358\n",
            " Crepitantes       0.97      0.97      0.97       898\n",
            "\n",
            "    accuracy                           0.95      2754\n",
            "   macro avg       0.94      0.90      0.92      2754\n",
            "weighted avg       0.94      0.95      0.94      2754\n",
            "\n"
          ],
          "name": "stdout"
        }
      ]
    },
    {
      "cell_type": "code",
      "metadata": {
        "colab": {
          "base_uri": "https://localhost:8080/"
        },
        "id": "jfkeZ9wshIsN",
        "outputId": "0ec2aafe-78de-43b1-aa88-936e34b5693d"
      },
      "source": [
        "#Matriz de confusión de prueba\n",
        "print('Matriz de confusión de prueba')\n",
        "print(confusion_matrix(y_test,predict2_test))\n",
        "target_names = ['Normales','Sibilantes', 'Crepitantes']\n",
        "print('')\n",
        "print(classification_report(y_test,predict2_test,target_names=target_names))"
      ],
      "execution_count": null,
      "outputs": [
        {
          "output_type": "stream",
          "text": [
            "Matriz de confusión de prueba\n",
            "[[605   8   7]\n",
            " [ 37 115   8]\n",
            " [ 14   7 380]]\n",
            "\n",
            "              precision    recall  f1-score   support\n",
            "\n",
            "    Normales       0.92      0.98      0.95       620\n",
            "  Sibilantes       0.88      0.72      0.79       160\n",
            " Crepitantes       0.96      0.95      0.95       401\n",
            "\n",
            "    accuracy                           0.93      1181\n",
            "   macro avg       0.92      0.88      0.90      1181\n",
            "weighted avg       0.93      0.93      0.93      1181\n",
            "\n"
          ],
          "name": "stdout"
        }
      ]
    },
    {
      "cell_type": "code",
      "metadata": {
        "colab": {
          "base_uri": "https://localhost:8080/"
        },
        "id": "dcMNv0cuhIsP",
        "outputId": "23064b1a-8f6c-4c09-83de-58c33c195195"
      },
      "source": [
        "#Matriz de confusión de validación\n",
        "print('Matriz de confusión de validación')\n",
        "print(confusion_matrix(y_val,predict2_val))\n",
        "target_names = ['Normales','Sibilantes', 'Crepitantes']\n",
        "print('')\n",
        "print(classification_report(y_val,predict2_val,target_names=target_names))"
      ],
      "execution_count": null,
      "outputs": [
        {
          "output_type": "stream",
          "text": [
            "Matriz de confusión de validación\n",
            "[[498  13   4]\n",
            " [ 41  92   4]\n",
            " [  8   2 322]]\n",
            "\n",
            "              precision    recall  f1-score   support\n",
            "\n",
            "    Normales       0.91      0.97      0.94       515\n",
            "  Sibilantes       0.86      0.67      0.75       137\n",
            " Crepitantes       0.98      0.97      0.97       332\n",
            "\n",
            "    accuracy                           0.93       984\n",
            "   macro avg       0.92      0.87      0.89       984\n",
            "weighted avg       0.93      0.93      0.92       984\n",
            "\n"
          ],
          "name": "stdout"
        }
      ]
    },
    {
      "cell_type": "markdown",
      "metadata": {
        "id": "HyRSbOc-hrvk"
      },
      "source": [
        "####**- ARQUITECTURA #3**"
      ]
    },
    {
      "cell_type": "code",
      "metadata": {
        "id": "nvbBwPQhhrvy"
      },
      "source": [
        "#Creación de la red\n",
        "mlp3_3 = MLPClassifier(hidden_layer_sizes=(15,15,15), activation='relu', solver='adam', max_iter=1000) \n",
        "#Entrenamiento de la red\n",
        "mlp3_3.fit(X_train,y_train)\n",
        "\n",
        "predict3_train = mlp3_3.predict(X_train)\n",
        "predict3_test = mlp3_3.predict(X_test)\n",
        "predict3_val = mlp3_3.predict(X_val)"
      ],
      "execution_count": null,
      "outputs": []
    },
    {
      "cell_type": "code",
      "metadata": {
        "colab": {
          "base_uri": "https://localhost:8080/"
        },
        "id": "ixhiY1L1hrv0",
        "outputId": "f4eb6892-5ae7-4857-9e9b-dd443c75cc9b"
      },
      "source": [
        "#Matriz de confusión de entrenamiento\n",
        "print('Matriz de confusión de entrenamiento')\n",
        "print(confusion_matrix(y_train,predict3_train))\n",
        "target_names = ['Normales','Sibilantes', 'Crepitantes']\n",
        "print('')\n",
        "print(classification_report(y_train,predict3_train,target_names=target_names))"
      ],
      "execution_count": null,
      "outputs": [
        {
          "output_type": "stream",
          "text": [
            "Matriz de confusión de entrenamiento\n",
            "[[1468   14   16]\n",
            " [  90  261    7]\n",
            " [  22    5  871]]\n",
            "\n",
            "              precision    recall  f1-score   support\n",
            "\n",
            "    Normales       0.93      0.98      0.95      1498\n",
            "  Sibilantes       0.93      0.73      0.82       358\n",
            " Crepitantes       0.97      0.97      0.97       898\n",
            "\n",
            "    accuracy                           0.94      2754\n",
            "   macro avg       0.95      0.89      0.91      2754\n",
            "weighted avg       0.94      0.94      0.94      2754\n",
            "\n"
          ],
          "name": "stdout"
        }
      ]
    },
    {
      "cell_type": "code",
      "metadata": {
        "colab": {
          "base_uri": "https://localhost:8080/"
        },
        "id": "KK55RBK7hrv0",
        "outputId": "b15699f8-d08f-4374-8a3f-3462bdc1c133"
      },
      "source": [
        "#Matriz de confusión de prueba\n",
        "print('Matriz de confusión de prueba')\n",
        "print(confusion_matrix(y_test,predict3_test))\n",
        "target_names = ['Normales','Sibilantes', 'Crepitantes']\n",
        "print('')\n",
        "print(classification_report(y_test,predict3_test,target_names=target_names))"
      ],
      "execution_count": null,
      "outputs": [
        {
          "output_type": "stream",
          "text": [
            "Matriz de confusión de prueba\n",
            "[[605   8   7]\n",
            " [ 43 111   6]\n",
            " [ 13   5 383]]\n",
            "\n",
            "              precision    recall  f1-score   support\n",
            "\n",
            "    Normales       0.92      0.98      0.94       620\n",
            "  Sibilantes       0.90      0.69      0.78       160\n",
            " Crepitantes       0.97      0.96      0.96       401\n",
            "\n",
            "    accuracy                           0.93      1181\n",
            "   macro avg       0.93      0.87      0.90      1181\n",
            "weighted avg       0.93      0.93      0.93      1181\n",
            "\n"
          ],
          "name": "stdout"
        }
      ]
    },
    {
      "cell_type": "code",
      "metadata": {
        "colab": {
          "base_uri": "https://localhost:8080/"
        },
        "id": "T_I8DD-rhrv1",
        "outputId": "573b7f0b-c47f-4714-dc2b-9555e36c580b"
      },
      "source": [
        "#Matriz de confusión de validación\n",
        "print('Matriz de confusión de validación')\n",
        "print(confusion_matrix(y_val,predict3_val))\n",
        "target_names = ['Normales','Sibilantes', 'Crepitantes']\n",
        "print('')\n",
        "print(classification_report(y_val,predict3_val,target_names=target_names))"
      ],
      "execution_count": null,
      "outputs": [
        {
          "output_type": "stream",
          "text": [
            "Matriz de confusión de validación\n",
            "[[501  10   4]\n",
            " [ 44  89   4]\n",
            " [  6   2 324]]\n",
            "\n",
            "              precision    recall  f1-score   support\n",
            "\n",
            "    Normales       0.91      0.97      0.94       515\n",
            "  Sibilantes       0.88      0.65      0.75       137\n",
            " Crepitantes       0.98      0.98      0.98       332\n",
            "\n",
            "    accuracy                           0.93       984\n",
            "   macro avg       0.92      0.87      0.89       984\n",
            "weighted avg       0.93      0.93      0.93       984\n",
            "\n"
          ],
          "name": "stdout"
        }
      ]
    },
    {
      "cell_type": "markdown",
      "metadata": {
        "id": "cEyoK2Qxrun4"
      },
      "source": [
        "A partir de la evaluación métrica obtenida para cada una de las arquitecturas de clasificación de ciclo normales, sibilantes y crepitantes se encuentra que de un total de 2754 datos de entrenamiento, una de las arquitecturas evaluadas tienen una exactitud del 95%, siendo las dos restantes del 94%, sin embargo, el análisis de una sola métrica no garantiza la mejor elección del modelo de red, por lo tanto, se evalúa la precisión y el f1-score, ya que es importante poder diferenciar entre los tres tipos de ciclos respiratorios que se pueden presentar para aplicar el correcto tratamiento según sea el diagnóstico, encontrando que para la métrica f1-score y precisión se obtienen resultados mas cercanos a 1 para la arquitectura #2 que posee 3 capas ocultas con 10 neuronas cada una. Además, la matriz de confusión indica que la cantidad de datos clasificados correctamente corresponden a los ubicados en la diagonal de pendiente negativa, siendo estos significativamente mayores que el resto de datos ubicados en la matriz que corresponden a los clasificados erróneamente.  \n",
        "\n",
        "Adicionalmente, al observar las métricas de exactitud presición y f1-score, para los datos de validación y prueba se presenta una diferencia insignificante con respecto a las metricas de entrenamiento, concluyendo que el modelo está clasificando correctamente y no presenta sobre-entrenamiento."
      ]
    },
    {
      "cell_type": "markdown",
      "metadata": {
        "id": "-GTi1aM1yDgD"
      },
      "source": [
        "####**CONCLUSIÓN**\n",
        "\n"
      ]
    },
    {
      "cell_type": "markdown",
      "metadata": {
        "id": "ThlybLleyLhS"
      },
      "source": [
        "En la actualidad las redes neuronales y en general los algoritmos de aprendizaje automático están siendo utilizadas de manera exitosa como herramientas de apoyo para el diágnostico y detección de enfermedades con un previo entrenamiendo y validación de la eficacia del modelo mediante la utilizacion de datos previamente clasificados.\n",
        "\n",
        "En el presente trabajo se desarrollaron 4 diferentes redes neuronales, en las cuales se logró diferenciar los ciclos respiratorios normales, sibilantes y crepitantes de una población de estudio, partiendo de datos previamente preprocesados, acondicionados y clasificados encontrando unas redes con una exactitud a partir del 94% siendo este un resultado confiable a la hora de la implementación de algoritmos de aprendizaje automático para el diagnóstico de enfermedades.  \n",
        "\n",
        "Por otro lado, en el diseño de las redes se observó que entre mas datos y clases posea la red se necesitan mayor cantidad de neuronas en las capas ocultas para que el sistema de clasificación funcione correctamente. Además, se encontró que a pesar de que en la teoría se sugiere usar mayor cantidad de capas ocultas para un mejor sistema de clasificación, en los datos evaluados para este trabajo esta premisa no se cumplía en todos los casos. Finalmente, se determina que para este estudio, no es necesario utilizar una gran cantidad de neuronas para obtener un buen resultado, puesto que, se usaron máximo 4 capas ocultas y 15 neuronas, donde los resultados obtenidos fueron óptimos y significativos sin generar mayor gasto computacional. "
      ]
    },
    {
      "cell_type": "markdown",
      "metadata": {
        "id": "3OS4RW2K4xDt"
      },
      "source": [
        "####**- Consultar como funciona, realizar y discutir un ejemplo con los datos de los ciclos respiratorios del algoritmo de K means.**"
      ]
    },
    {
      "cell_type": "code",
      "metadata": {
        "colab": {
          "base_uri": "https://localhost:8080/",
          "height": 204
        },
        "id": "Q4KKFcwD8KYt",
        "outputId": "0aa292ec-2050-4b24-afb4-f09b0904f107"
      },
      "source": [
        "#Lectura del DataFrame con los valores normalizados. \n",
        "dataframe=n_s_c\n",
        "dataframe.head()"
      ],
      "execution_count": null,
      "outputs": [
        {
          "output_type": "execute_result",
          "data": {
            "text/html": [
              "<div>\n",
              "<style scoped>\n",
              "    .dataframe tbody tr th:only-of-type {\n",
              "        vertical-align: middle;\n",
              "    }\n",
              "\n",
              "    .dataframe tbody tr th {\n",
              "        vertical-align: top;\n",
              "    }\n",
              "\n",
              "    .dataframe thead th {\n",
              "        text-align: right;\n",
              "    }\n",
              "</style>\n",
              "<table border=\"1\" class=\"dataframe\">\n",
              "  <thead>\n",
              "    <tr style=\"text-align: right;\">\n",
              "      <th></th>\n",
              "      <th>Varianza</th>\n",
              "      <th>Rango</th>\n",
              "      <th>SMA gruesa</th>\n",
              "      <th>SMA fina</th>\n",
              "      <th>Espectro medio</th>\n",
              "      <th>PSD prom</th>\n",
              "      <th>Outcome</th>\n",
              "    </tr>\n",
              "  </thead>\n",
              "  <tbody>\n",
              "    <tr>\n",
              "      <th>0</th>\n",
              "      <td>0.000092</td>\n",
              "      <td>0.010631</td>\n",
              "      <td>0.012898</td>\n",
              "      <td>0.008208</td>\n",
              "      <td>0.000092</td>\n",
              "      <td>0.000516</td>\n",
              "      <td>0</td>\n",
              "    </tr>\n",
              "    <tr>\n",
              "      <th>1</th>\n",
              "      <td>0.000078</td>\n",
              "      <td>0.010589</td>\n",
              "      <td>0.011961</td>\n",
              "      <td>0.006939</td>\n",
              "      <td>0.000076</td>\n",
              "      <td>0.000503</td>\n",
              "      <td>0</td>\n",
              "    </tr>\n",
              "    <tr>\n",
              "      <th>2</th>\n",
              "      <td>0.000083</td>\n",
              "      <td>0.010434</td>\n",
              "      <td>0.012343</td>\n",
              "      <td>0.006855</td>\n",
              "      <td>0.000080</td>\n",
              "      <td>0.000523</td>\n",
              "      <td>0</td>\n",
              "    </tr>\n",
              "    <tr>\n",
              "      <th>3</th>\n",
              "      <td>0.000074</td>\n",
              "      <td>0.010602</td>\n",
              "      <td>0.010866</td>\n",
              "      <td>0.006372</td>\n",
              "      <td>0.000072</td>\n",
              "      <td>0.000515</td>\n",
              "      <td>0</td>\n",
              "    </tr>\n",
              "    <tr>\n",
              "      <th>4</th>\n",
              "      <td>0.000070</td>\n",
              "      <td>0.010632</td>\n",
              "      <td>0.010794</td>\n",
              "      <td>0.006401</td>\n",
              "      <td>0.000071</td>\n",
              "      <td>0.000483</td>\n",
              "      <td>0</td>\n",
              "    </tr>\n",
              "  </tbody>\n",
              "</table>\n",
              "</div>"
            ],
            "text/plain": [
              "   Varianza     Rango  SMA gruesa  SMA fina  Espectro medio  PSD prom  Outcome\n",
              "0  0.000092  0.010631    0.012898  0.008208        0.000092  0.000516        0\n",
              "1  0.000078  0.010589    0.011961  0.006939        0.000076  0.000503        0\n",
              "2  0.000083  0.010434    0.012343  0.006855        0.000080  0.000523        0\n",
              "3  0.000074  0.010602    0.010866  0.006372        0.000072  0.000515        0\n",
              "4  0.000070  0.010632    0.010794  0.006401        0.000071  0.000483        0"
            ]
          },
          "metadata": {
            "tags": []
          },
          "execution_count": 169
        }
      ]
    },
    {
      "cell_type": "code",
      "metadata": {
        "colab": {
          "base_uri": "https://localhost:8080/"
        },
        "id": "7LK6dAYJ8aLx",
        "outputId": "48ef366b-262f-418e-ce6c-b030ca0d5fa8"
      },
      "source": [
        "#Se imprime la cantidad de ciclos normales, crepitantes y sibilantes. \n",
        "print(dataframe.groupby('Outcome').size())"
      ],
      "execution_count": null,
      "outputs": [
        {
          "output_type": "stream",
          "text": [
            "Outcome\n",
            "0    2633\n",
            "1     655\n",
            "2    1631\n",
            "dtype: int64\n"
          ],
          "name": "stdout"
        }
      ]
    },
    {
      "cell_type": "code",
      "metadata": {
        "colab": {
          "base_uri": "https://localhost:8080/"
        },
        "id": "p9BSPf9o81E_",
        "outputId": "aa3d2b51-db59-437f-845e-e96043e12586"
      },
      "source": [
        "#Datos para alimentar el algoritmo. \n",
        "X = np.array(dataframe[[\"Rango\",\"PSD prom\",\"Espectro medio\",\"Varianza\",\"SMA gruesa\",\"SMA fina\"]])\n",
        "y = np.array(dataframe['Outcome'])\n",
        "X.shape"
      ],
      "execution_count": null,
      "outputs": [
        {
          "output_type": "execute_result",
          "data": {
            "text/plain": [
              "(4919, 6)"
            ]
          },
          "metadata": {
            "tags": []
          },
          "execution_count": 171
        }
      ]
    },
    {
      "cell_type": "code",
      "metadata": {
        "colab": {
          "base_uri": "https://localhost:8080/"
        },
        "id": "d8qDNE489D0r",
        "outputId": "4c7330cd-e378-4c19-d2d1-2de5eacb128f"
      },
      "source": [
        "#Elección de la cantidad de clusters.\n",
        "kmeans = KMeans(n_clusters=3).fit(X)\n",
        "centroids = kmeans.cluster_centers_\n",
        "print(centroids)"
      ],
      "execution_count": null,
      "outputs": [
        {
          "output_type": "stream",
          "text": [
            "[[0.55606026 0.3518751  0.28796336 0.29244844 0.46096352 0.4337538 ]\n",
            " [0.27025225 0.10126637 0.06217972 0.06319605 0.22463122 0.18927266]\n",
            " [0.05916428 0.01145621 0.00431105 0.00436445 0.05441533 0.03980443]]\n"
          ],
          "name": "stdout"
        }
      ]
    },
    {
      "cell_type": "code",
      "metadata": {
        "colab": {
          "base_uri": "https://localhost:8080/",
          "height": 611
        },
        "id": "FnqpN5Ls-YR0",
        "outputId": "1679e3b0-87bf-4ea1-bf14-5b495bd73893"
      },
      "source": [
        "#Predicción de los clusters. \n",
        "labels = kmeans.predict(X)\n",
        "\n",
        "#Centroide de los clusters. \n",
        "C = kmeans.cluster_centers_\n",
        "colores=['orange','purple','pink']\n",
        "asignar=[]\n",
        "for row in labels:\n",
        "    asignar.append(colores[row])\n",
        "\n",
        "#Se plotea los tres grupos elegidos para diferenciar los tres clusters. \n",
        "fig = plt.figure()\n",
        "ax = Axes3D(fig)\n",
        "ax.scatter(X[:, 0], X[:, 1], X[:, 2], c=asignar,s=60)\n",
        "ax.scatter(C[:, 0], C[:, 1], C[:, 2], marker='*', c=colores, s=1000)"
      ],
      "execution_count": null,
      "outputs": [
        {
          "output_type": "execute_result",
          "data": {
            "text/plain": [
              "<mpl_toolkits.mplot3d.art3d.Path3DCollection at 0x7f2edd12ae48>"
            ]
          },
          "metadata": {
            "tags": []
          },
          "execution_count": 189
        },
        {
          "output_type": "display_data",
          "data": {
            "image/png": "[encoded data removed]",
            "text/plain": [
              "<Figure size 1152x648 with 1 Axes>"
            ]
          },
          "metadata": {
            "tags": []
          }
        }
      ]
    },
    {
      "cell_type": "code",
      "metadata": {
        "colab": {
          "base_uri": "https://localhost:8080/",
          "height": 142
        },
        "id": "1iiSiLH1_Mn3",
        "outputId": "496cdade-88e3-49cb-88b9-edf1f4d6094b"
      },
      "source": [
        "#Cantidad de datos de cada uno de los clusters.\n",
        "copy =  pd.DataFrame()\n",
        "copy['Outcome']=dataframe['Outcome'].values\n",
        "copy['label'] = labels;\n",
        "cantidadGrupo =  pd.DataFrame()\n",
        "cantidadGrupo['color']=colores\n",
        "cantidadGrupo['cantidad']=copy.groupby('label').size()\n",
        "cantidadGrupo"
      ],
      "execution_count": null,
      "outputs": [
        {
          "output_type": "execute_result",
          "data": {
            "text/html": [
              "<div>\n",
              "<style scoped>\n",
              "    .dataframe tbody tr th:only-of-type {\n",
              "        vertical-align: middle;\n",
              "    }\n",
              "\n",
              "    .dataframe tbody tr th {\n",
              "        vertical-align: top;\n",
              "    }\n",
              "\n",
              "    .dataframe thead th {\n",
              "        text-align: right;\n",
              "    }\n",
              "</style>\n",
              "<table border=\"1\" class=\"dataframe\">\n",
              "  <thead>\n",
              "    <tr style=\"text-align: right;\">\n",
              "      <th></th>\n",
              "      <th>color</th>\n",
              "      <th>cantidad</th>\n",
              "    </tr>\n",
              "  </thead>\n",
              "  <tbody>\n",
              "    <tr>\n",
              "      <th>0</th>\n",
              "      <td>orange</td>\n",
              "      <td>297</td>\n",
              "    </tr>\n",
              "    <tr>\n",
              "      <th>1</th>\n",
              "      <td>purple</td>\n",
              "      <td>1137</td>\n",
              "    </tr>\n",
              "    <tr>\n",
              "      <th>2</th>\n",
              "      <td>pink</td>\n",
              "      <td>3485</td>\n",
              "    </tr>\n",
              "  </tbody>\n",
              "</table>\n",
              "</div>"
            ],
            "text/plain": [
              "    color  cantidad\n",
              "0  orange       297\n",
              "1  purple      1137\n",
              "2    pink      3485"
            ]
          },
          "metadata": {
            "tags": []
          },
          "execution_count": 179
        }
      ]
    },
    {
      "cell_type": "code",
      "metadata": {
        "colab": {
          "base_uri": "https://localhost:8080/",
          "height": 142
        },
        "id": "wxhAH8xA_RHu",
        "outputId": "c244db90-574e-476a-d8af-4e03f4383778"
      },
      "source": [
        "#Predicción de cantidad de datos por la similitud entre las características evaluadas. \n",
        "group_referrer_index = copy['label'] ==0\n",
        "group_referrals = copy[group_referrer_index]\n",
        " \n",
        "diversidadGrupo =  pd.DataFrame()\n",
        "diversidadGrupo['Outcome']=[0,1,2]\n",
        "diversidadGrupo['cantidad']=group_referrals.groupby('Outcome').size()\n",
        "diversidadGrupo"
      ],
      "execution_count": null,
      "outputs": [
        {
          "output_type": "execute_result",
          "data": {
            "text/html": [
              "<div>\n",
              "<style scoped>\n",
              "    .dataframe tbody tr th:only-of-type {\n",
              "        vertical-align: middle;\n",
              "    }\n",
              "\n",
              "    .dataframe tbody tr th {\n",
              "        vertical-align: top;\n",
              "    }\n",
              "\n",
              "    .dataframe thead th {\n",
              "        text-align: right;\n",
              "    }\n",
              "</style>\n",
              "<table border=\"1\" class=\"dataframe\">\n",
              "  <thead>\n",
              "    <tr style=\"text-align: right;\">\n",
              "      <th></th>\n",
              "      <th>Outcome</th>\n",
              "      <th>cantidad</th>\n",
              "    </tr>\n",
              "  </thead>\n",
              "  <tbody>\n",
              "    <tr>\n",
              "      <th>0</th>\n",
              "      <td>0</td>\n",
              "      <td>52</td>\n",
              "    </tr>\n",
              "    <tr>\n",
              "      <th>1</th>\n",
              "      <td>1</td>\n",
              "      <td>37</td>\n",
              "    </tr>\n",
              "    <tr>\n",
              "      <th>2</th>\n",
              "      <td>2</td>\n",
              "      <td>208</td>\n",
              "    </tr>\n",
              "  </tbody>\n",
              "</table>\n",
              "</div>"
            ],
            "text/plain": [
              "   Outcome  cantidad\n",
              "0        0        52\n",
              "1        1        37\n",
              "2        2       208"
            ]
          },
          "metadata": {
            "tags": []
          },
          "execution_count": 194
        }
      ]
    },
    {
      "cell_type": "code",
      "metadata": {
        "colab": {
          "base_uri": "https://localhost:8080/",
          "height": 142
        },
        "id": "GHg0jWj0Gj2Q",
        "outputId": "f9dcf253-ad90-4aac-d275-5061a924b8c7"
      },
      "source": [
        "#Predicción de cantidad de datos por la similitud entre las características evaluadas. \n",
        "group_referrer_index = copy['label'] ==1\n",
        "group_referrals = copy[group_referrer_index]\n",
        " \n",
        "diversidadGrupo =  pd.DataFrame()\n",
        "diversidadGrupo['Outcome']=[0,1,2]\n",
        "diversidadGrupo['cantidad']=group_referrals.groupby('Outcome').size()\n",
        "diversidadGrupo"
      ],
      "execution_count": null,
      "outputs": [
        {
          "output_type": "execute_result",
          "data": {
            "text/html": [
              "<div>\n",
              "<style scoped>\n",
              "    .dataframe tbody tr th:only-of-type {\n",
              "        vertical-align: middle;\n",
              "    }\n",
              "\n",
              "    .dataframe tbody tr th {\n",
              "        vertical-align: top;\n",
              "    }\n",
              "\n",
              "    .dataframe thead th {\n",
              "        text-align: right;\n",
              "    }\n",
              "</style>\n",
              "<table border=\"1\" class=\"dataframe\">\n",
              "  <thead>\n",
              "    <tr style=\"text-align: right;\">\n",
              "      <th></th>\n",
              "      <th>Outcome</th>\n",
              "      <th>cantidad</th>\n",
              "    </tr>\n",
              "  </thead>\n",
              "  <tbody>\n",
              "    <tr>\n",
              "      <th>0</th>\n",
              "      <td>0</td>\n",
              "      <td>346</td>\n",
              "    </tr>\n",
              "    <tr>\n",
              "      <th>1</th>\n",
              "      <td>1</td>\n",
              "      <td>140</td>\n",
              "    </tr>\n",
              "    <tr>\n",
              "      <th>2</th>\n",
              "      <td>2</td>\n",
              "      <td>651</td>\n",
              "    </tr>\n",
              "  </tbody>\n",
              "</table>\n",
              "</div>"
            ],
            "text/plain": [
              "   Outcome  cantidad\n",
              "0        0       346\n",
              "1        1       140\n",
              "2        2       651"
            ]
          },
          "metadata": {
            "tags": []
          },
          "execution_count": 195
        }
      ]
    },
    {
      "cell_type": "code",
      "metadata": {
        "colab": {
          "base_uri": "https://localhost:8080/",
          "height": 142
        },
        "id": "07dNrLL-GqLh",
        "outputId": "57ba354d-71ec-4a3c-a422-1c77af6d101f"
      },
      "source": [
        "#Predicción de cantidad de datos por la similitud entre las características evaluadas. \n",
        "group_referrer_index = copy['label'] ==2\n",
        "group_referrals = copy[group_referrer_index]\n",
        " \n",
        "diversidadGrupo =  pd.DataFrame()\n",
        "diversidadGrupo['Outcome']=[0,1,2]\n",
        "diversidadGrupo['cantidad']=group_referrals.groupby('Outcome').size()\n",
        "diversidadGrupo"
      ],
      "execution_count": null,
      "outputs": [
        {
          "output_type": "execute_result",
          "data": {
            "text/html": [
              "<div>\n",
              "<style scoped>\n",
              "    .dataframe tbody tr th:only-of-type {\n",
              "        vertical-align: middle;\n",
              "    }\n",
              "\n",
              "    .dataframe tbody tr th {\n",
              "        vertical-align: top;\n",
              "    }\n",
              "\n",
              "    .dataframe thead th {\n",
              "        text-align: right;\n",
              "    }\n",
              "</style>\n",
              "<table border=\"1\" class=\"dataframe\">\n",
              "  <thead>\n",
              "    <tr style=\"text-align: right;\">\n",
              "      <th></th>\n",
              "      <th>Outcome</th>\n",
              "      <th>cantidad</th>\n",
              "    </tr>\n",
              "  </thead>\n",
              "  <tbody>\n",
              "    <tr>\n",
              "      <th>0</th>\n",
              "      <td>0</td>\n",
              "      <td>2235</td>\n",
              "    </tr>\n",
              "    <tr>\n",
              "      <th>1</th>\n",
              "      <td>1</td>\n",
              "      <td>478</td>\n",
              "    </tr>\n",
              "    <tr>\n",
              "      <th>2</th>\n",
              "      <td>2</td>\n",
              "      <td>772</td>\n",
              "    </tr>\n",
              "  </tbody>\n",
              "</table>\n",
              "</div>"
            ],
            "text/plain": [
              "   Outcome  cantidad\n",
              "0        0      2235\n",
              "1        1       478\n",
              "2        2       772"
            ]
          },
          "metadata": {
            "tags": []
          },
          "execution_count": 196
        }
      ]
    },
    {
      "cell_type": "code",
      "metadata": {
        "colab": {
          "base_uri": "https://localhost:8080/"
        },
        "id": "QbdLVJbK_UZq",
        "outputId": "ce6756e6-2e1b-4bb4-9c65-3d128e6f3b6d"
      },
      "source": [
        "#vemos el representante del grupo, el usuario cercano a su centroidoe.\n",
        "closest, _ = pairwise_distances_argmin_min(kmeans.cluster_centers_, X)\n",
        "closest"
      ],
      "execution_count": null,
      "outputs": [
        {
          "output_type": "execute_result",
          "data": {
            "text/plain": [
              "array([3757, 4719, 2232])"
            ]
          },
          "metadata": {
            "tags": []
          },
          "execution_count": 198
        }
      ]
    },
    {
      "cell_type": "markdown",
      "metadata": {
        "id": "cDt-U2K-IG1e"
      },
      "source": [
        "Se puede apreciar que los ciclos respiratorios normales y crepitantes se agrupan en mayor proporción en dos grupos independientes, mientras que los ciclos sibilantes se agrupan en los tres grupos obtenidos mediante el método k means, encontrando que no es posible diferenciar los ciclos sibilantes. Por tanto, apesar de realizar la evaluación con todas las características del dominio del tiempo y frecuencia de la señal las cuales se habían verificado que tenían diferencias estadísticas, no es posible por el metodo de K means agrupar correctamente los ciclos normales, sibilantes y crepitantes, por tanto es necesario encontrar nuevas características que permitan agrupar correctamente cada grupo. \n",
        "\n",
        " "
      ]
    }
  ]
}