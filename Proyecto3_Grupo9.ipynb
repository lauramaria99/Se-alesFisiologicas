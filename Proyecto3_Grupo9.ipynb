{
  "nbformat": 4,
  "nbformat_minor": 0,
  "metadata": {
    "colab": {
      "name": "Proyecto3_Grupo9.ipynb",
      "provenance": [],
      "collapsed_sections": [],
      "toc_visible": true,
      "include_colab_link": true
    },
    "kernelspec": {
      "display_name": "Python 3",
      "name": "python3"
    }
  },
  "cells": [
    {
      "cell_type": "markdown",
      "metadata": {
        "id": "view-in-github",
        "colab_type": "text"
      },
      "source": [
        "<a href=\"https://colab.research.google.com/github/lauramaria99/Se-alesFisiologicas/blob/main/Proyecto3_Grupo9.ipynb\" target=\"_parent\"><img src=\"https://colab.research.google.com/assets/colab-badge.svg\" alt=\"Open In Colab\"/></a>"
      ]
    },
    {
      "cell_type": "markdown",
      "metadata": {
        "id": "27eGo7I-RHdZ"
      },
      "source": [
        "# **Programa de Bioingeniería** \n",
        "\n",
        "**Bioseñales y Sistemas** \n",
        "\n",
        "**Proyecto 3**\n",
        "\n",
        "**Estudiantes:** \n",
        "\n",
        "Isabella Ariza Cuberos C.C 1152470641 - Maria Camila Parra Córdoba C.C 1233191182 - Laura María Muñoz Bravo C.C 1216729952.\n",
        "\n"
      ]
    },
    {
      "cell_type": "code",
      "metadata": {
        "id": "4VeH7zaKp7bB"
      },
      "source": [
        "#Se importan las librerias básicas.\n",
        "import librosa\n",
        "import librosa.display\n",
        "import numpy as np;\n",
        "import matplotlib.pyplot as plt;\n",
        "import scipy.io as sio;\n",
        "from astropy.stats import median_absolute_deviation\n",
        "import pandas as pd\n",
        "\n",
        "#Se importa la libreria scipy que contiene herramientas estadísticas.\n",
        "import scipy.stats as stats \n",
        "\n",
        "#Se ignoran las alertas para mejorar la visualización.\n",
        "import warnings \n",
        "warnings.filterwarnings(\"ignore\") "
      ],
      "execution_count": null,
      "outputs": []
    },
    {
      "cell_type": "code",
      "metadata": {
        "colab": {
          "base_uri": "https://localhost:8080/"
        },
        "id": "vC_i7kheG1Wi",
        "outputId": "e609ce30-717e-45ca-f1ef-ca34ead21025"
      },
      "source": [
        "#Se importa y se activa \"Drive\" para acceder a los respectivos archivos de audio y texto.\n",
        "from google.colab import drive\n",
        "drive.mount('/content/drive')"
      ],
      "execution_count": null,
      "outputs": [
        {
          "output_type": "stream",
          "text": [
            "Drive already mounted at /content/drive; to attempt to forcibly remount, call drive.mount(\"/content/drive\", force_remount=True).\n"
          ],
          "name": "stdout"
        }
      ]
    },
    {
      "cell_type": "code",
      "metadata": {
        "id": "FEWwopGsbJTs"
      },
      "source": [
        "#Se importa la librería glob para acceder a los archivos de una ruta en específico.\n",
        "import glob\n",
        "#Extracción de los archivos de texto y de audio. \n",
        "txt=glob.glob('/content/drive/MyDrive/Lab Bioseñales/audio_and_txt_files/*.txt')\n",
        "txt=sorted(txt)\n",
        "wav=glob.glob('/content/drive/MyDrive/Lab Bioseñales/audio_and_txt_files/*.wav')\n",
        "wav=sorted(wav)"
      ],
      "execution_count": null,
      "outputs": []
    },
    {
      "cell_type": "markdown",
      "metadata": {
        "id": "9pDU-98Tf6Kb"
      },
      "source": [
        "## **2. Rutina de filtrado de la señal de auscultación**\n",
        "\n"
      ]
    },
    {
      "cell_type": "code",
      "metadata": {
        "id": "nW4xV-pIPmb3"
      },
      "source": [
        "#Se importa la librerñia correspondiente para realizar los filtros. \n",
        "from linearFIR import filter_design, mfreqz\n",
        "import scipy.signal as signal"
      ],
      "execution_count": null,
      "outputs": []
    },
    {
      "cell_type": "code",
      "metadata": {
        "id": "A4Ku71JydOfk"
      },
      "source": [
        "#Función que contiene los filtros pasa bajas y pasa altas. \n",
        "def filtro(senal,sr):\n",
        "  fs = sr;\n",
        "  #Diseño del filtro pasa-bajas.\n",
        "  order, lowpass = filter_design(fs, locutoff = 0, hicutoff = 2000, revfilt = 0);\n",
        "  #Diseño del filtro pasa-altas.\n",
        "  order, highpass = filter_design(fs, locutoff = 100, hicutoff = 0, revfilt = 1);\n",
        "\n",
        "  #Se aplica el filtro pasa altas a la señal.\n",
        "  y_hp = signal.filtfilt(highpass, 1, senal);\n",
        "\n",
        "  #Se aplica el filtro pasa bajas a la señal con el pasa altas aplicado.\n",
        "  y_bp = signal.filtfilt(lowpass, 1, y_hp); \n",
        "\n",
        "  #Se convierte a array\n",
        "  y_bp = np.asfortranarray(y_bp)\n",
        "\n",
        "  return y_bp,fs"
      ],
      "execution_count": null,
      "outputs": []
    },
    {
      "cell_type": "code",
      "metadata": {
        "colab": {
          "base_uri": "https://localhost:8080/",
          "height": 677
        },
        "id": "9NujYcT4ebZQ",
        "outputId": "a03d7ad0-2463-4a1d-93ce-efac07e15045"
      },
      "source": [
        "#EJEMPLO DE APLICACIÓN DE FILTROS PASA BAJAS Y PASA ALTAS. \n",
        "senal=wav[1]\n",
        "#Se extrae la señal y frecuencia de muestreo.\n",
        "y, sr = librosa.load(senal) \n",
        "y_f,fs=filtro(y,sr)\n",
        "\n",
        "#Gráfica de la señal de audio orginal y filtrada.\n",
        "librosa.display.waveplot(y, sr=sr);\n",
        "plt.title('Señal de audio original')\n",
        "plt.xlabel('Tiempo [s]')\n",
        "plt.ylabel('Amplitud')\n",
        "plt.grid()\n",
        "plt.show()\n",
        "\n",
        "#Gráfica de la señal de audio filtrada.\n",
        "librosa.display.waveplot(y_f, sr=fs);\n",
        "plt.title('Señal de audio filtrada')\n",
        "plt.xlabel('Tiempo [s]')\n",
        "plt.ylabel('Amplitud')\n",
        "plt.grid()\n",
        "plt.show()"
      ],
      "execution_count": null,
      "outputs": [
        {
          "output_type": "stream",
          "text": [
            "500.0\n",
            "pop_eegfiltnew() - cutoff frequency(ies) (-6 dB): [2250.] Hz\n",
            "\n",
            "25.0\n",
            "pop_eegfiltnew() - cutoff frequency(ies) (-6 dB): [87.5] Hz\n",
            "\n"
          ],
          "name": "stdout"
        },
        {
          "output_type": "display_data",
          "data": {
            "image/png": "[encoded data removed]",
            "text/plain": [
              "<Figure size 432x288 with 1 Axes>"
            ]
          },
          "metadata": {
            "tags": [],
            "needs_background": "light"
          }
        },
        {
          "output_type": "display_data",
          "data": {
            "image/png": "[encoded data removed]",
            "text/plain": [
              "<Figure size 432x288 with 1 Axes>"
            ]
          },
          "metadata": {
            "tags": [],
            "needs_background": "light"
          }
        }
      ]
    },
    {
      "cell_type": "markdown",
      "metadata": {
        "id": "3W5bOaGZgn-a"
      },
      "source": [
        "## **3. Filtrado Wavelet**"
      ]
    },
    {
      "cell_type": "code",
      "metadata": {
        "id": "7GaawKdhiZgY"
      },
      "source": [
        "%%capture\n",
        "#Se importan las funciones definidas en el proyecto 2, requeridas para realizar la limpieza Wavelet.\n",
        "from proyecto2 import mallat,ruido,limpieza,reconstruccion"
      ],
      "execution_count": null,
      "outputs": []
    },
    {
      "cell_type": "code",
      "metadata": {
        "id": "xqgkUpoiq82n"
      },
      "source": [
        "#Función que realiza el filtrado Wavelet. \n",
        "def wavelet(y_f,fs,tipo,umb,pond):\n",
        "  \n",
        "  #Posibles opciones para la combinación de filtrado. \n",
        "  '''\n",
        "  tipo = 'hard' o 'soft'\n",
        "  umb = 'universal' , 'minimax' o 'sure'\n",
        "  pond = 'global' o 'por nivel'\n",
        "  '''\n",
        "  #Se aplica el algoritmo de mallat con tres niveles de descomposición.\n",
        "  aprox, detalle=mallat(y_f,3,'haar') \n",
        "  #Estimación del nivel de ruido.\n",
        "  stdc=ruido(aprox,detalle) \n",
        "  #Limpieza Wavelet\n",
        "  aproxi,detallee,thr,stdc1=limpieza(aprox,detalle,stdc,tipo,umb,pond)\n",
        "  #Reconstrucción de la señal. \n",
        "  rec=reconstruccion(aproxi,detallee,y_f,'haar')\n",
        "  fil=y_f[0:len(rec)]-rec\n",
        "  \n",
        "  #Se realiza la conversión a array. \n",
        "  f = np.asfortranarray(rec)\n",
        "  g = np.asfortranarray(fil)\n",
        "\n",
        "  return f,g"
      ],
      "execution_count": null,
      "outputs": []
    },
    {
      "cell_type": "code",
      "metadata": {
        "colab": {
          "base_uri": "https://localhost:8080/",
          "height": 392
        },
        "id": "YWCqKZ4Xq-2M",
        "outputId": "80d03c4f-c327-4bb7-c2e8-d99b2e0d42af"
      },
      "source": [
        "#EJEMPLO DE FILTRADO CON WAVELET. \n",
        "f,g= wavelet(y_f,fs,'soft','minimax','por nivel')\n",
        "\n",
        "#Guarda la señal filtrada como audio.\n",
        "librosa.output.write_wav('senal.wav',g,fs)\n",
        "\n",
        "#Gráficas de la señal filtrada mediante filtros pasa altas, pasa bajas y wavelet. \n",
        "figura=plt.figure()\n",
        "plt.subplot(3,1,1);\n",
        "librosa.display.waveplot(y_f, sr=fs);\n",
        "plt.title('Señal de audio con filro Hp y Lp')\n",
        "plt.xlabel('Tiempo [s]')\n",
        "plt.ylabel('Amplitud')\n",
        "plt.grid()\n",
        "plt.show()\n",
        "\n",
        "plt.subplot(3,1,2)\n",
        "librosa.display.waveplot(f,sr=fs);\n",
        "plt.xlabel(\"Tiempo [s]\")\n",
        "plt.ylabel(\"Amplitud\")\n",
        "plt.title(\"Señal de audio filtrada con wavelet\")\n",
        "plt.grid()\n",
        "plt.show()\n",
        "\n",
        "plt.subplot(3,1,3)\n",
        "librosa.display.waveplot(g,sr=fs);\n",
        "plt.title('Señal de audio filtrada')\n",
        "plt.xlabel('Tiempo [s]')\n",
        "plt.ylabel('Amplitud')\n",
        "plt.grid()\n",
        "plt.show()\n",
        "figura.subplots_adjust(hspace=0.5)\n"
      ],
      "execution_count": null,
      "outputs": [
        {
          "output_type": "display_data",
          "data": {
            "image/png": "[encoded data removed]",
            "text/plain": [
              "<Figure size 432x288 with 1 Axes>"
            ]
          },
          "metadata": {
            "tags": [],
            "needs_background": "light"
          }
        },
        {
          "output_type": "display_data",
          "data": {
            "image/png": "[encoded data removed]",
            "text/plain": [
              "<Figure size 432x288 with 1 Axes>"
            ]
          },
          "metadata": {
            "tags": [],
            "needs_background": "light"
          }
        },
        {
          "output_type": "display_data",
          "data": {
            "image/png": "[encoded data removed]",
            "text/plain": [
              "<Figure size 432x288 with 1 Axes>"
            ]
          },
          "metadata": {
            "tags": [],
            "needs_background": "light"
          }
        }
      ]
    },
    {
      "cell_type": "markdown",
      "metadata": {
        "id": "j2C2I_t6LKs9"
      },
      "source": [
        "Al implementar la función que permite realizar el filtrado Wavelet con la finalidad de eliminar ruidos cardiacos, se realizan pruebas de escritorio para determinar cual es la combinación de parámetros más adecuada para dicho proceso de tal manera que no haya eliminación de datos relevantes de los ciclos respiratorios, es por eso, que se llega a la conclusión de que utilizar el tipo de umbralización '*soft*', estimación del umbral '*minimax*' y tipo de ponderación '*por nivel*' es la mejor alternativa para realizar el filtrado. \n",
        "\n"
      ]
    },
    {
      "cell_type": "markdown",
      "metadata": {
        "id": "Yj5tLsClvPQL"
      },
      "source": [
        "## **4. Preprocesamiento de la señal**"
      ]
    },
    {
      "cell_type": "code",
      "metadata": {
        "id": "2xSy7142vO7D"
      },
      "source": [
        "#Función para realizar el preprocesamiento de la señal. \n",
        "def pre(y,sr,tipo,umb,pond):\n",
        "\n",
        "  #Se llaman las funciones del filtro pasa altas, pasa bajas y Wavelet. \n",
        "  yf, fs= filtro(y,sr)\n",
        "  w,fi = wavelet(yf,fs,tipo,umb,pond)\n",
        "\n",
        "  return yf,w,fi"
      ],
      "execution_count": null,
      "outputs": []
    },
    {
      "cell_type": "code",
      "metadata": {
        "colab": {
          "base_uri": "https://localhost:8080/",
          "height": 496
        },
        "id": "R9Y2aha6xn2u",
        "outputId": "e0777288-ab36-4413-cd0f-df4a7883b285"
      },
      "source": [
        "#EJEMPLO DEL PREPROCESAMIENTO DE LA SEÑAL. \n",
        "yf,w,fi=pre(y,sr,'soft','minimax','por nivel')\n",
        "\n",
        "#Gráficas de la señal filtrada mediante filtros pasa altas, pasa bajas y wavelet.\n",
        "figura=plt.figure()\n",
        "plt.subplot(3,1,1);\n",
        "librosa.display.waveplot(yf, sr=fs);\n",
        "plt.title('Señal de audio con filro Hp y Lp')\n",
        "plt.xlabel('Tiempo [s]')\n",
        "plt.ylabel('Amplitud')\n",
        "plt.grid()\n",
        "plt.show()\n",
        "\n",
        "plt.subplot(3,1,2)\n",
        "librosa.display.waveplot(w,sr=fs);\n",
        "plt.xlabel(\"Tiempo [s]\")\n",
        "plt.ylabel(\"Amplitud\")\n",
        "plt.title(\"Señal de audio filtrada con wavelet\")\n",
        "plt.grid()\n",
        "plt.show()\n",
        "\n",
        "plt.subplot(3,1,3)\n",
        "librosa.display.waveplot(fi,sr=fs);\n",
        "plt.title('Señal de audio filtrada')\n",
        "plt.xlabel('Tiempo [s]')\n",
        "plt.ylabel('Amplitud')\n",
        "plt.grid()\n",
        "plt.show()\n",
        "figura.subplots_adjust(hspace=0.5)"
      ],
      "execution_count": null,
      "outputs": [
        {
          "output_type": "stream",
          "text": [
            "500.0\n",
            "pop_eegfiltnew() - cutoff frequency(ies) (-6 dB): [2250.] Hz\n",
            "\n",
            "25.0\n",
            "pop_eegfiltnew() - cutoff frequency(ies) (-6 dB): [87.5] Hz\n",
            "\n"
          ],
          "name": "stdout"
        },
        {
          "output_type": "display_data",
          "data": {
            "image/png": "[encoded data removed]",
            "text/plain": [
              "<Figure size 432x288 with 1 Axes>"
            ]
          },
          "metadata": {
            "tags": [],
            "needs_background": "light"
          }
        },
        {
          "output_type": "display_data",
          "data": {
            "image/png": "[encoded data removed]",
            "text/plain": [
              "<Figure size 432x288 with 1 Axes>"
            ]
          },
          "metadata": {
            "tags": [],
            "needs_background": "light"
          }
        },
        {
          "output_type": "display_data",
          "data": {
            "image/png": "[encoded data removed]",
            "text/plain": [
              "<Figure size 432x288 with 1 Axes>"
            ]
          },
          "metadata": {
            "tags": [],
            "needs_background": "light"
          }
        }
      ]
    },
    {
      "cell_type": "markdown",
      "metadata": {
        "id": "_tVD2leByOkm"
      },
      "source": [
        "## **5. Extracción de ciclos respiratorios**"
      ]
    },
    {
      "cell_type": "code",
      "metadata": {
        "id": "JGXccLKRyt4u"
      },
      "source": [
        "#función que permite la extracción de los ciclos respiratorios. \n",
        "def ciclos(a1,t1):\n",
        "  audio = a1\n",
        "  texto = t1\n",
        "  #Extracción de la señal y frecuencia de muestreo.\n",
        "  y, sr = librosa.load(audio) \n",
        "  #Se implementa la función de preprocesamiento.\n",
        "  yf,w,fi=pre(y,sr,'soft','minimax','por nivel')\n",
        "  #Extracción de los archivos de texto. \n",
        "  t=np.loadtxt(texto)\n",
        "  w=0\n",
        "  con=[]\n",
        "  sib=[]\n",
        "  cre=[]\n",
        "  #Ciclo que permite la extracción de los respectivos archivos. \n",
        "  for i in range(0,len(t)):\n",
        "    h=0\n",
        "    j=2\n",
        "    tt=t[i][h+1]-t[i][h]\n",
        "    #Puntos de la nueva señal en epocas\n",
        "    s=fi[w:int(w+(tt*sr))] \n",
        "    #Número de muestras\n",
        "    w=int(w+(tt*sr))\n",
        "\n",
        "    #Condicionales para añadir los datos a una lista dependiendo del grupo al cual pertenezcan. \n",
        "    if t[i][j]==1 and t[i][j+1]==0:\n",
        "      cre.append(s)\n",
        "    elif t[i][j]==0 and t[i][j+1]==1:\n",
        "      sib.append(s)  \n",
        "    elif  t[i][j]==0 and t[i][j+1]==0:\n",
        "      con.append(s)   \n",
        "\n",
        "  return con,sib,cre"
      ],
      "execution_count": null,
      "outputs": []
    },
    {
      "cell_type": "code",
      "metadata": {
        "colab": {
          "base_uri": "https://localhost:8080/"
        },
        "id": "R-GnQ13z3fTY",
        "outputId": "d4fd2032-17bb-462d-bc5c-50d372ce12c2"
      },
      "source": [
        "#EJEMPLO DE LA EXTRACCIÓN DE CILOS RESPIRATORIOS. \n",
        "#Ruta de los archivos de audio y texto. \n",
        "a='/content/drive/MyDrive/Lab Bioseñales/audio_and_txt_files/101_1b1_Al_sc_Meditron.wav'\n",
        "b='/content/drive/MyDrive/Lab Bioseñales/audio_and_txt_files/101_1b1_Al_sc_Meditron.txt'\n",
        "con,sib,cre=ciclos(a,b)\n",
        "\n",
        "#Imprime la cantidad de ciclos normales, sibilatentes y crepitantes. \n",
        "print('Ciclos normales:',len(con))\n",
        "print('Ciclos con sibilancias:',len(sib))\n",
        "print('Ciclos con crepitancias:',len(cre))"
      ],
      "execution_count": null,
      "outputs": [
        {
          "output_type": "stream",
          "text": [
            "500.0\n",
            "pop_eegfiltnew() - cutoff frequency(ies) (-6 dB): [2250.] Hz\n",
            "\n",
            "25.0\n",
            "pop_eegfiltnew() - cutoff frequency(ies) (-6 dB): [87.5] Hz\n",
            "\n",
            "Ciclos normales: 12\n",
            "Ciclos con sibilancias: 0\n",
            "Ciclos con crepitancias: 0\n"
          ],
          "name": "stdout"
        }
      ]
    },
    {
      "cell_type": "markdown",
      "metadata": {
        "id": "3W9fy0XPxVw_"
      },
      "source": [
        "## **Comparaciones de la densidad espectral de potencia entre pacientes con ciclos normales, con sibilancias y crepitancias.**"
      ]
    },
    {
      "cell_type": "markdown",
      "metadata": {
        "id": "rwnWRTo6-5hI"
      },
      "source": [
        "### **Recorte de la señal**"
      ]
    },
    {
      "cell_type": "code",
      "metadata": {
        "id": "9AdSxeJwBTKA"
      },
      "source": [
        "#Función que realiza el recorte de la señal. \n",
        "def recorte(wav,txt):\n",
        "  n=[]\n",
        "  nc=[]\n",
        "  ns=[]\n",
        "  #Se agregan los elementos de cada una de las listas como un elemento más dentro de otra lista. \n",
        "  for i in range(0,len(wav)):\n",
        "    con1,sib1,cre1=ciclos(wav[i],txt[i])\n",
        "    n.extend(con1)\n",
        "    nc.extend(cre1)\n",
        "    ns.extend(sib1)\n",
        "  ln=[]\n",
        "  lnc=[]\n",
        "  lns=[]\n",
        "  #Ciclos \"For\" para devolver la longitud de los elementos de las listas. \n",
        "  #Longitud de ciclos normales. \n",
        "  for j in range(0,len(n)):\n",
        "    l=len(n[j])\n",
        "    ln.append(l)\n",
        "  #Longitud de ciclos crepitantes. \n",
        "  for j in range(0,len(nc)):\n",
        "    lc=len(nc[j])\n",
        "    lnc.append(lc)\n",
        "  #Longitud de ciclos sibilantes. \n",
        "  for j in range(0,len(ns)):\n",
        "    ls=len(ns[j])\n",
        "    lns.append(ls)\n",
        "\n",
        "  #Recorte de los ciclos respiratorios a 40.000 muestras.  \n",
        "  #Ciclos normales.\n",
        "  normal=[]\n",
        "  for w in range(0,len(ln)):\n",
        "    d=ln[w]\n",
        "    if d>=40000:\n",
        "      z=n[w][0:40000]\n",
        "      normal.append(z)\n",
        "  #Ciclos crepitantes. \n",
        "  crep=[]\n",
        "  for w in range(0,len(lnc)):\n",
        "    d=lnc[w]\n",
        "    if d>=40000:\n",
        "      zc=nc[w][0:40000]\n",
        "      crep.append(zc)\n",
        "  #Ciclos sibilantes. \n",
        "  sibi=[]\n",
        "  for w in range(0,len(lns)):\n",
        "    d=lns[w]\n",
        "    if d>=40000:\n",
        "      zs=ns[w][0:40000]\n",
        "      sibi.append(zs)\n",
        "\n",
        "  return normal,crep,sibi,ln,lnc,lns"
      ],
      "execution_count": null,
      "outputs": []
    },
    {
      "cell_type": "code",
      "metadata": {
        "id": "tAcnxgL5_HXC"
      },
      "source": [
        "%%capture\n",
        "#APLICACIÓN DEL RECORTE DE LOS CICLOS RESPIRATORIOS. \n",
        "normal,crep,sibi,ln,lnc,lns=recorte(wav,txt)"
      ],
      "execution_count": null,
      "outputs": []
    },
    {
      "cell_type": "code",
      "metadata": {
        "colab": {
          "base_uri": "https://localhost:8080/"
        },
        "id": "h00ZKl22Slej",
        "outputId": "8b12e5ed-5d71-41f5-c0d2-bfae231226f8"
      },
      "source": [
        "#Cálculo del promedio de las longitudes de cada ciclo respiratorio. \n",
        "m=np.mean(ln)\n",
        "mc=np.mean(lnc)\n",
        "ms=np.mean(lns)\n",
        "#Se imprimen los promedios de las muestras de cada uno de los ciclos respiratorios. \n",
        "print('El promedio de muestras de los ciclos normales es: ',m)\n",
        "print('El promedio de muestras de los ciclos con crepitancias es: ',mc)\n",
        "print('El promedio de muestras de los ciclos con sibilancias es: ',ms)"
      ],
      "execution_count": null,
      "outputs": [
        {
          "output_type": "stream",
          "text": [
            "El promedio de muestras de los ciclos normales es:  57483.38962108731\n",
            "El promedio de muestras de los ciclos con crepitancias es:  61398.936158798286\n",
            "El promedio de muestras de los ciclos con sibilancias es:  59599.715575620765\n"
          ],
          "name": "stdout"
        }
      ]
    },
    {
      "cell_type": "markdown",
      "metadata": {
        "id": "Ho8WeavdSux1"
      },
      "source": [
        "Con el fin de igualar el tamaño de los ciclos a estudiar se determina el promedio del tamaño de los ciclos, para así tomar la mayor cantidad de ciclos completos como sea posible, al hacer el promedio, se encuentra que los ciclos normales son de '57483.38' muestras, los sibilantes de '59599.71' muestras y los crepitantes de '59599.71' muestras. \n",
        "Posteriormente se realizan pruebas de escritorio para determinar que longitud de ciclo es la más adecuada para mantener la mayor cantidad de ciclos, encontrando que ciclos de 40000 muestras conservan el 76.95% de los ciclos, lo que representa una muestra significativa."
      ]
    },
    {
      "cell_type": "markdown",
      "metadata": {
        "id": "NL2oEgqvVVgD"
      },
      "source": [
        "Finalmente los ciclos a estudiar serán:\n",
        "\n",
        "\n",
        "*   Ciclos normales: 2633\n",
        "*   Ciclos con crepitancias: 1631\n",
        "*   Ciclos con sinilancias: 655\n",
        "\n",
        "\n",
        "\n"
      ]
    },
    {
      "cell_type": "markdown",
      "metadata": {
        "id": "1gvuvjOPsvcw"
      },
      "source": [
        "## **6. Densidad espectral de potencia**"
      ]
    },
    {
      "cell_type": "code",
      "metadata": {
        "colab": {
          "base_uri": "https://localhost:8080/",
          "height": 350
        },
        "id": "83EQwnWa021b",
        "outputId": "1f0945ee-ce70-48b0-88e9-c70146a97e91"
      },
      "source": [
        "#GRÁFICAS DE LA DENSIDAD ESPECTRAL DE POTENCIA PARA CADA UNO DE LOS CICLOS RESPIRATORIOS.  \n",
        "px_n=[]\n",
        "px_s=[]\n",
        "px_c=[]\n",
        "\n",
        "#PSD para ciclos normales. \n",
        "figura1=plt.figure(figsize=(20,5))\n",
        "plt.subplot(1,3,1)\n",
        "for i in range(0,len(normal)):\n",
        "  #Estimación de la densidad espectral. \n",
        "  f, Pxx = signal.welch(normal[i],fs,'hamming', 40000*0.05, 40000*0.025, scaling='density');\n",
        "  plt.plot(f[f<3000],Pxx[f<3000])\n",
        "  px_n.append(Pxx)\n",
        "  plt.title('PSD - Normal')\n",
        "  plt.xlabel('Frecuencia [Hz]')\n",
        "  plt.ylabel('Amplitud')\n",
        "  plt.grid()\n",
        "\n",
        "#PSD para ciclos sibilantes.\n",
        "plt.subplot(1,3,2)\n",
        "for i in range(0,len(sibi)):\n",
        "  #Estimación de la densidad espectral.\n",
        "  fss, Pxxs = signal.welch(sibi[i],fs,'hamming', 40000*0.05, 40000*0.025, scaling='density');\n",
        "  plt.plot(fss[fss<3000],Pxxs[fss<3000])\n",
        "  px_s.append(Pxxs)\n",
        "  plt.title('PSD - Sibilancia')  \n",
        "  plt.grid()\n",
        "  plt.xlabel('Frecuencia [Hz]')\n",
        "  plt.ylabel('Amplitud')\n",
        "\n",
        "#PSD para ciclos crepitantes. \n",
        "plt.subplot(1,3,3)\n",
        "for i in range(0,len(crep)):\n",
        "  #Estimación de la densidad espectral. \n",
        "  fcc, Pxxc = signal.welch(crep[i],fs,'hamming', 40000*0.05, 40000*0.025, scaling='density');\n",
        "  plt.plot(fcc[fcc<3000],Pxxc[fcc<3000])\n",
        "  px_c.append(Pxxc)\n",
        "  plt.title('PSD - Crepitancia')\n",
        "  plt.xlabel('Frecuencia [Hz]')\n",
        "  plt.ylabel('Amplitud')\n",
        "  plt.grid()\n",
        "figura1.subplots_adjust(wspace=0.3,hspace=0.4) "
      ],
      "execution_count": null,
      "outputs": [
        {
          "output_type": "display_data",
          "data": {
            "image/png": "[encoded data removed]",
            "text/plain": [
              "<Figure size 1440x360 with 3 Axes>"
            ]
          },
          "metadata": {
            "tags": [],
            "needs_background": "light"
          }
        }
      ]
    },
    {
      "cell_type": "markdown",
      "metadata": {
        "id": "1ia0oKq1LD3o"
      },
      "source": [
        "Las tres gráficas presentadas corresponden a la densidad espectral de potencia de cada uno de los ciclos respiratorios, donde en la gráfica número 1 se observa el comportamiento de la PSD de los ciclos normales, encontrando algunas variaciones en la amplitud de esta, apreciando algunos picos a altas frecuencias, característicos de algunos ciclos, los cuales pueden estar relacionados a perturbaciones del ciclo respiratorio. De la misma manera se puede observar este comportamiento en la PSD de los ciclos sibilantes, donde también se presentan variaciones en la amplitudes. Por último en la PSD de los ciclos crepiatntes se aprecia que los espectros también presentan variaciones en su amplitud, sin embargo el comportamiento de dichos espectros es similar para la mayoria de ciclos, esto se debe a que los pacientes evaluados pueden presentar diferencias en la severidad de los sonidos crepitantes en su respiración."
      ]
    },
    {
      "cell_type": "markdown",
      "metadata": {
        "id": "m_4b2zs82_A6"
      },
      "source": [
        "### **Densidad espectral de potencia promedio**"
      ]
    },
    {
      "cell_type": "code",
      "metadata": {
        "id": "kMtg54pl2-Fw"
      },
      "source": [
        "#CÁLCULO DE LA DENSIDAD ESPECTRAL DE POTENCIA PROMEDIO PARA CADA UNO DE LOS CICLOS RESPIRATORIOS.  \n",
        "#PSD promedio para los ciclos normales.\n",
        "pr=[]\n",
        "#Ciclo que devuelve los datos de la PSD del ciclo en la posición cero. \n",
        "for i in range(0,len(px_n[0])):\n",
        "  V=[]\n",
        "  #Ciclo que recorre cada una de las posiciones de la PSD para ser guardadas en una nueva lista vacía. \n",
        "  for j in range(0,len(px_n)):\n",
        "    v=px_n[j][i]\n",
        "    V.append(v)\n",
        "  pr.append(V)  \n",
        "pr_n=[]\n",
        "#Ciclo para el cálculo de la PSD promedio. \n",
        "for h in range(0,len(pr)):\n",
        "  proms=np.mean(pr[h])\n",
        "  pr_n.append(proms)\n",
        "\n",
        "#PSD promedio para los ciclos crepitantes.\n",
        "pr1=[]\n",
        "#Ciclo que devuelve los datos de la PSD del ciclo en la posición cero. \n",
        "for i in range(0,len(px_c[0])):\n",
        "  V1=[]\n",
        "  #Ciclo que recorre cada una de las posiciones de la PSD para ser guardadas en una nueva lista vacía.\n",
        "  for j in range(0,len(px_c)):\n",
        "    v1=px_c[j][i]\n",
        "    V1.append(v1)\n",
        "  pr1.append(V1)\n",
        "pr_c=[]\n",
        "#Ciclo para el cálculo de la PSD promedio.\n",
        "for h in range(0,len(pr1)):\n",
        "  proms1=np.mean(pr1[h])\n",
        "  pr_c.append(proms1)\n",
        "\n",
        "#PSD promedio para los ciclos sibilantes.\n",
        "pr2=[]\n",
        "#Ciclo que devuelve los datos de la PSD del ciclo en la posición cero. \n",
        "for i in range(0,len(px_s[0])):\n",
        "  V2=[]\n",
        "  #Ciclo que recorre cada una de las posiciones de la PSD para ser guardadas en una nueva lista vacía.\n",
        "  for j in range(0,len(px_s)):\n",
        "    v2=px_s[j][i]\n",
        "    V2.append(v2)\n",
        "  pr2.append(V2)\n",
        "pr_s=[]\n",
        "#Ciclo para el cálculo de la PSD promedio. \n",
        "for h in range(0,len(pr2)):\n",
        "  proms2=np.mean(pr2[h])\n",
        "  pr_s.append(proms2)"
      ],
      "execution_count": null,
      "outputs": []
    },
    {
      "cell_type": "code",
      "metadata": {
        "colab": {
          "base_uri": "https://localhost:8080/",
          "height": 294
        },
        "id": "6_yuUfEjFJXM",
        "outputId": "9c42cbe7-cd6a-477e-9e7d-d398526ea080"
      },
      "source": [
        "#APLICACIÓN y GRÁFICAS DE LA PSD PROMEDIO PARA CADA UNO DE LOS CICLOS RESPIRATORIOS. \n",
        "#Se convierte la frecuencia a un array. \n",
        "f = np.asfortranarray(f)\n",
        "\n",
        "#Gráfica de los ciclos normales. \n",
        "pr_n=np.asfortranarray(pr_n)\n",
        "plt.plot(f[f<3000],pr_n[f<3000],label='NORMAL')\n",
        "\n",
        "\n",
        "#Gráfica de los ciclos crepitantes.\n",
        "pr_c=np.asfortranarray(pr_c)\n",
        "plt.plot(f[f<3000],pr_c[f<3000],label='CREPITANCIAS')\n",
        "\n",
        "#Gráfica de los ciclos sibilantes. \n",
        "pr_s=np.asfortranarray(pr_s)\n",
        "plt.plot(f[f<3000],pr_s[f<3000],label='SIBILANCIAS')\n",
        "\n",
        "#Se grafican el promedio de los ciclos en una sola gráfica.\n",
        "plt.xlim(100,3000)\n",
        "plt.title('PSD promedio')\n",
        "plt.xlabel('Frecuencia [Hz]')\n",
        "plt.ylabel('Amplitud')\n",
        "plt.legend()\n",
        "plt.grid()\n",
        "plt.show()\n"
      ],
      "execution_count": null,
      "outputs": [
        {
          "output_type": "display_data",
          "data": {
            "image/png": "[encoded data removed]",
            "text/plain": [
              "<Figure size 432x288 with 1 Axes>"
            ]
          },
          "metadata": {
            "tags": [],
            "needs_background": "light"
          }
        }
      ]
    },
    {
      "cell_type": "markdown",
      "metadata": {
        "id": "RK1QHjjrN5dq"
      },
      "source": [
        "El gráfico presentado corresponde al promedio de la densidad espectral de potencia de los ciclos normales, crepitantes y sibilantes, en el se obsevan diferencias en las amplitudes de los ciclos mencionados, observando que en el rango de frecuencias entre 1250 y 1500 se presenta la mayor diferencia de amplitudes de frecuencia entre las tres poblaciones estudiadas.\n",
        "\n",
        "Por otro lado, se puede percibir que en los ciclos crepitantes no hay picos de amplitud notorios, lo que hace que la curva sea más homogenea, mientras que en las curvas de sibilancias y normal se observan picos de amplitud producto del comportamiento de los graficos de los espectros individuales de los ciclos.\n",
        "\n",
        "Finalmente, es posible observar que la principal diferencia entre los ciclos crepitantes, sibilantes y normales radica en la amplitud del espectro de densidad de potencia, el cual a frecuencia medias es mayor para ciclos sibilantes y menor para ciclos crepitantes. A demás es notorio que a pesar de que los ciclos sibilantes, normales y crepitantes poseen caracteristicas diferentes, su comportamiento de las curvas en el dominio de la frecuencia es similar.\n"
      ]
    },
    {
      "cell_type": "markdown",
      "metadata": {
        "id": "4BPFXilQEXCT"
      },
      "source": [
        "## **7. Índices en el dominio del tiempo y frecuencia**"
      ]
    },
    {
      "cell_type": "code",
      "metadata": {
        "id": "B2ekywyOEWLm"
      },
      "source": [
        "#Función para el cálculo de índices. \n",
        "def indices(ciclo):\n",
        "  #Cálculo de varianza.\n",
        "  var=np.var(ciclo)\n",
        "\n",
        "  #Cálculo del rango.\n",
        "  rango=np.abs(max(ciclo)-min(ciclo))\n",
        "\n",
        "  #Cálculo de la suma de la media móvil simple.\n",
        "  s=[]\n",
        "  ss=[]\n",
        "  sum_d=[]\n",
        "  w=0\n",
        "  #Lista para guardar las ventanas\n",
        "  win_1=[]\n",
        "  #Ciclo para extraer las ventanas\n",
        "  for i in range(0,20):\n",
        "    win=ciclo[int(w):int((len(ciclo)*0.05)+w)] \n",
        "    #Solapamiento\n",
        "    w=int(w+1000) \n",
        "    win_1.append(win) \n",
        "  #Cálculo de la suma gruesa\n",
        "  for i in range(1,len(ciclo)):\n",
        "    si=np.abs(ciclo[i-1]-ciclo[i])\n",
        "    s.append(si)\n",
        "  suma_g=np.sum(s)\n",
        "  #Cálculo de la suma fina\n",
        "  for i in range(1,len(win_1)):\n",
        "    su=np.abs(win_1[i-1]-win_1[i])\n",
        "    ss.append(su)\n",
        "    suma_d=np.sum(ss)\n",
        "    sum_d.append(suma_d)\n",
        "  suma_f=max(sum_d)\n",
        "  fs=22050\n",
        "  #Cálculo de la densidad espectral de potencia promedio\n",
        "  f, Pxx = signal.welch(ciclo,fs,'hamming', 40000*0.05, 40000*0.025, scaling='density');\n",
        "  esp_m=np.mean(Pxx)\n",
        "\n",
        "  #Cálculo del índice adicional, donde se maxima la diferencia de los espectros.\n",
        "  E=Pxx[227:272]\n",
        "  prome=np.mean(E)\n",
        "\n",
        "  return var,rango,suma_g,suma_f,esp_m,prome"
      ],
      "execution_count": null,
      "outputs": []
    },
    {
      "cell_type": "code",
      "metadata": {
        "colab": {
          "base_uri": "https://localhost:8080/"
        },
        "id": "CQ1Z8lXGE4GO",
        "outputId": "b9ca9fe5-f55d-4e5e-c904-f240e210efa3"
      },
      "source": [
        "#EJEMPLO DEL CÁLCULO DE INDICES.\n",
        "v,r,sg,sf,e,E=indices(sibi[2])\n",
        "\n",
        "#Se imprimen los valores de los indices respectivos. \n",
        "print('Varianza: ',v)\n",
        "print('Rango: ',r)\n",
        "print('Suma de la media móvil simple gruesa: ', sg)\n",
        "print('Suma de la media móvil simple fina: ', sf)\n",
        "print('Valor medio del espectro: ', e)\n",
        "print('Valor medio rango diferencial del espectro: ', E)"
      ],
      "execution_count": null,
      "outputs": [
        {
          "output_type": "stream",
          "text": [
            "Varianza:  3.131647562542854e-07\n",
            "Rango:  0.005504695347368294\n",
            "Suma de la media móvil simple gruesa:  12.770745189544103\n",
            "Suma de la media móvil simple fina:  21.179668562662766\n",
            "Valor medio del espectro:  2.8244388395948037e-11\n",
            "Valor medio rango diferencial del espectro:  6.366175238722861e-11\n"
          ],
          "name": "stdout"
        }
      ]
    },
    {
      "cell_type": "markdown",
      "metadata": {
        "id": "w7Dxx7n9pUxT"
      },
      "source": [
        "## **8. Rutina de preprocesamiento y extracción de datos**"
      ]
    },
    {
      "cell_type": "code",
      "metadata": {
        "id": "n-dhROK8zbfU"
      },
      "source": [
        "#Función que permite una mejor visualización de los DataFrame.\n",
        "def displaydf(dataframe, cols = None, rows = None):\n",
        "    with pd.option_context(\"display.max_columns\", cols):\n",
        "        with pd.option_context(\"display.max_rows\", rows):\n",
        "            display(dataframe)\n",
        "    return True"
      ],
      "execution_count": null,
      "outputs": []
    },
    {
      "cell_type": "code",
      "metadata": {
        "id": "zrbjL_k1UNLB"
      },
      "source": [
        "tipos=[normal,crep,sibi]\n",
        "var_=[]\n",
        "r_=[]\n",
        "sg_=[]\n",
        "sf_=[]\n",
        "e_=[]\n",
        "p_=[]\n",
        "#Ciclo que añade a diferentes listas los índices de todos los ciclos respiratorios. \n",
        "for i in range(0,len(tipos)):\n",
        "  for k in range(0,len(tipos[i])):\n",
        "    var,rango,suma_g,suma_f,esp_m,prome=indices(tipos[i][k])\n",
        "    var_.append(var)\n",
        "    r_.append(rango)\n",
        "    sg_.append(suma_g)\n",
        "    sf_.append(suma_f)\n",
        "    e_.append(esp_m)\n",
        "    p_.append(prome)\n",
        "\n",
        "#Se dividen cada uno de los índices correspondientes a cada grupo de ciclos respiratorios, normales, sibilantes y crepitantes. \n",
        "no=[]\n",
        "for i in range(0,len(normal)):\n",
        "  nn='0'\n",
        "  no.append(nn)\n",
        "na=[]\n",
        "for i in range(0,len(sibi)):\n",
        "  nn='1'\n",
        "  na.append(nn)\n",
        "np=[]\n",
        "for i in range(0,len(crep)):\n",
        "  nn='2'\n",
        "  np.append(nn)\n",
        "\n",
        "#\n",
        "gp=[]\n",
        "gp.extend(no)\n",
        "gp.extend(np)\n",
        "gp.extend(na)\n",
        "\n",
        "#Se guarda toda la información de los índices en un dataframe discriminando cada uno de los ciclos respiratorios normales, crepitantes y sibilantes. \n",
        "CDATA=pd.DataFrame({'Varianza':pd.Series(var_),'Rango':pd.Series(r_),'SMA gruesa':pd.Series(sg_),'SMA fina':pd.Series(sf_),'Espectro medio':pd.Series(e_),'PSD prom':pd.Series(p_),'Outcome':pd.Series(gp)})\n"
      ],
      "execution_count": null,
      "outputs": []
    },
    {
      "cell_type": "code",
      "metadata": {
        "id": "Z-VcyleD4s8V"
      },
      "source": [
        "#Se imprime el Dataframe que contiene los índices para los diferentes tipos de ciclos\n",
        "#datos=displaydf(CDATA)\n",
        "hd=['Varianza','Rango','SMA gruesa','SMA fina','Espectro medio','PSD prom','Outcome']\n",
        "CDATA.to_csv ( 'DATOS1.csv' , header = True , index = False )\n"
      ],
      "execution_count": null,
      "outputs": []
    },
    {
      "cell_type": "markdown",
      "metadata": {
        "id": "zgcxV3_Egzja"
      },
      "source": [
        "## **9. Análisis estadístico y pruebas de hipótesis**"
      ]
    },
    {
      "cell_type": "code",
      "metadata": {
        "colab": {
          "base_uri": "https://localhost:8080/",
          "height": 158
        },
        "id": "gEr2ECjegtVZ",
        "outputId": "c7b0e673-b0f4-4b86-bea6-208524e748e8"
      },
      "source": [
        "#ANÁLISIS DE LA VARIANZA.\n",
        "#Media.\n",
        "m_n=np.mean(var[0:len(normal)-1])\n",
        "m_c=np.mean(var[len(normal):len(normal)+len(crep)-1])\n",
        "m_s=np.mean(var[len(normal)+len(crep):len(normal)+len(crep)+len(sibi)-1])\n",
        "#Desviación estándar.\n",
        "des_n=np.std(var[0:len(normal)-1])\n",
        "des_c=np.std(var[len(normal):len(normal)+len(crep)-1])\n",
        "des_s=np.std(var[len(normal)+len(crep):len(normal)+len(crep)+len(sibi)-1])\n",
        "\n",
        "#ANÁLISIS DEL ESPECTRO MEDIO.\n",
        "#Media\n",
        "me_n=np.mean(e[0:len(normal)-1])\n",
        "me_c=np.mean(e[len(normal):len(normal)+len(crep)-1])\n",
        "me_s=np.mean(e[len(normal)+len(crep):len(normal)+len(crep)+len(sibi)-1])\n",
        "#Desviación estándar\n",
        "dese_n=np.std(e[0:len(normal)-1])\n",
        "dese_c=np.std(e[len(normal):len(normal)+len(crep)-1])\n",
        "dese_s=np.std(e[len(normal)+len(crep):len(normal)+len(crep)+len(sibi)-1])\n",
        "\n",
        "#ANÁLISIS DEL RANGO.\n",
        "#Media\n",
        "mr_n=np.mean(r[0:len(normal)-1])\n",
        "mr_c=np.mean(r[len(normal):len(normal)+len(crep)-1])\n",
        "mr_s=np.mean(r[len(normal)+len(crep):len(normal)+len(crep)+len(sibi)-1])\n",
        "#Desviación estándar\n",
        "desr_n=np.std(r[0:len(normal)-1])\n",
        "desr_c=np.std(r[len(normal):len(normal)+len(crep)-1])\n",
        "desr_s=np.std(r[len(normal)+len(crep):len(normal)+len(crep)+len(sibi)-1])\n",
        "\n",
        "#Se agregan cada uno de los índices a una respectiva lista.\n",
        "Prom=[m_n,m_c,m_s]\n",
        "Prome=[me_n,me_c,me_s]\n",
        "Des=[des_n,des_c,des_s]\n",
        "Dese=[dese_n,dese_c,dese_s]\n",
        "Rango=[mr_n,mr_c,mr_s]\n",
        "Rangoe=[desr_n,desr_c,desr_s]\n",
        "\n",
        "#Se guarda toda la información anterior en un dataframe. \n",
        "CDATAn=pd.DataFrame({'Promedio de la varianza':pd.Series(Prom),'Promedio del espectro':pd.Series(Prome),'STD de la varianza':pd.Series(Des),'STD del espectro':pd.Series(Dese),'Promedio del rango':pd.Series(Rango),'STD del rango':pd.Series(Rangoe)})\n",
        "CDATAn.index=['NORMAL','CREPITANCIAS','SIBILANCIAS']\n",
        "CDATAn=displaydf(CDATAn)\n",
        "print(CDATAn)"
      ],
      "execution_count": null,
      "outputs": [
        {
          "output_type": "display_data",
          "data": {
            "text/html": [
              "<div>\n",
              "<style scoped>\n",
              "    .dataframe tbody tr th:only-of-type {\n",
              "        vertical-align: middle;\n",
              "    }\n",
              "\n",
              "    .dataframe tbody tr th {\n",
              "        vertical-align: top;\n",
              "    }\n",
              "\n",
              "    .dataframe thead th {\n",
              "        text-align: right;\n",
              "    }\n",
              "</style>\n",
              "<table border=\"1\" class=\"dataframe\">\n",
              "  <thead>\n",
              "    <tr style=\"text-align: right;\">\n",
              "      <th></th>\n",
              "      <th>Promedio de la varianza</th>\n",
              "      <th>Promedio del espectro</th>\n",
              "      <th>STD de la varianza</th>\n",
              "      <th>STD del espectro</th>\n",
              "      <th>Promedio del rango</th>\n",
              "      <th>STD del rango</th>\n",
              "    </tr>\n",
              "  </thead>\n",
              "  <tbody>\n",
              "    <tr>\n",
              "      <th>NORMAL</th>\n",
              "      <td>0.000021</td>\n",
              "      <td>1.872195e-09</td>\n",
              "      <td>0.000070</td>\n",
              "      <td>6.318583e-09</td>\n",
              "      <td>0.027203</td>\n",
              "      <td>0.032250</td>\n",
              "    </tr>\n",
              "    <tr>\n",
              "      <th>CREPITANCIAS</th>\n",
              "      <td>0.000016</td>\n",
              "      <td>1.451137e-09</td>\n",
              "      <td>0.000025</td>\n",
              "      <td>2.316520e-09</td>\n",
              "      <td>0.030791</td>\n",
              "      <td>0.023537</td>\n",
              "    </tr>\n",
              "    <tr>\n",
              "      <th>SIBILANCIAS</th>\n",
              "      <td>0.000024</td>\n",
              "      <td>2.185597e-09</td>\n",
              "      <td>0.000063</td>\n",
              "      <td>5.806197e-09</td>\n",
              "      <td>0.031282</td>\n",
              "      <td>0.034920</td>\n",
              "    </tr>\n",
              "  </tbody>\n",
              "</table>\n",
              "</div>"
            ],
            "text/plain": [
              "              Promedio de la varianza  Promedio del espectro  \\\n",
              "NORMAL                       0.000021           1.872195e-09   \n",
              "CREPITANCIAS                 0.000016           1.451137e-09   \n",
              "SIBILANCIAS                  0.000024           2.185597e-09   \n",
              "\n",
              "              STD de la varianza  STD del espectro  Promedio del rango  \\\n",
              "NORMAL                  0.000070      6.318583e-09            0.027203   \n",
              "CREPITANCIAS            0.000025      2.316520e-09            0.030791   \n",
              "SIBILANCIAS             0.000063      5.806197e-09            0.031282   \n",
              "\n",
              "              STD del rango  \n",
              "NORMAL             0.032250  \n",
              "CREPITANCIAS       0.023537  \n",
              "SIBILANCIAS        0.034920  "
            ]
          },
          "metadata": {
            "tags": []
          }
        },
        {
          "output_type": "stream",
          "text": [
            "True\n"
          ],
          "name": "stdout"
        }
      ]
    },
    {
      "cell_type": "markdown",
      "metadata": {
        "id": "g79g7sjcd0cC"
      },
      "source": [
        "### **Pruebas de hipótesis**"
      ]
    },
    {
      "cell_type": "markdown",
      "metadata": {
        "id": "9jiV28Oo5o80"
      },
      "source": [
        "**Varianza**\n",
        "\n"
      ]
    },
    {
      "cell_type": "markdown",
      "metadata": {
        "id": "YfqHUWv93rld"
      },
      "source": [
        "H 0 : La varianza de los ciclos respiratorios es igual entre los ciclos normales y crepitantes. \n",
        "\n",
        "H A : La varianza de los ciclos respiratorios no es igual entre los ciclos normales y crepitantes."
      ]
    },
    {
      "cell_type": "code",
      "metadata": {
        "id": "uulQqdIAdzsn",
        "colab": {
          "base_uri": "https://localhost:8080/"
        },
        "outputId": "afdddc8a-2e7f-4a08-e0e6-b338d1c09425"
      },
      "source": [
        "#Se aplica el test de Mann-Whitney.\n",
        "u_statistic, pVal = stats.mannwhitneyu(var[0:len(normal)] , var[len(normal):len(normal)+len(crep)]) \n",
        "print ('Valor P:', pVal)"
      ],
      "execution_count": null,
      "outputs": [
        {
          "output_type": "stream",
          "text": [
            "Valor P: 4.378403707987563e-24\n"
          ],
          "name": "stdout"
        }
      ]
    },
    {
      "cell_type": "markdown",
      "metadata": {
        "id": "r-VZnpk1oYLO"
      },
      "source": [
        "* Dado que el valor p (4.378e-24) es menor que 0.05, se rechaza la hipótesis nula, lo que significa que existe una diferencia entre la varianza de los ciclos respiratorios normales y sibilantes."
      ]
    },
    {
      "cell_type": "markdown",
      "metadata": {
        "id": "vXSqarah4ZhV"
      },
      "source": [
        "H 0 : La varianza de los ciclos respiratorios es igual entre los ciclos normales y sibilantes. \n",
        "\n",
        "H A : La varianza de los ciclos respiratorios no es igual entre los ciclos normales y sibilantes."
      ]
    },
    {
      "cell_type": "code",
      "metadata": {
        "colab": {
          "base_uri": "https://localhost:8080/"
        },
        "id": "Olyc_Pe_3VtV",
        "outputId": "bb272d92-08c6-493c-bc02-c03fd28618ae"
      },
      "source": [
        "#Se aplica el test de Mann-Whitney.\n",
        "u_statistic, pVal = stats.mannwhitneyu(var[0:len(normal)] , var[len(normal)+len(crep):len(normal)+len(crep)+len(sibi)]) \n",
        "print ('Valor P:', pVal)"
      ],
      "execution_count": null,
      "outputs": [
        {
          "output_type": "stream",
          "text": [
            "Valor P: 0.0008827703614966793\n"
          ],
          "name": "stdout"
        }
      ]
    },
    {
      "cell_type": "markdown",
      "metadata": {
        "id": "TfXiTJqU-l4s"
      },
      "source": [
        "*  Dado que el valor p (8.82e-04) es menor que 0.05, se rechaza la hipótesis nula, lo que significa que existe una diferencia entre la varianza de los ciclos respiratorios normales y crepitantes.\n"
      ]
    },
    {
      "cell_type": "markdown",
      "metadata": {
        "id": "SO7R923R5sq1"
      },
      "source": [
        "**Rango**\n",
        "\n",
        "\n"
      ]
    },
    {
      "cell_type": "markdown",
      "metadata": {
        "id": "rk9PbLgG58Mm"
      },
      "source": [
        "H 0 : El rango de los ciclos respiratorios es igual entre los ciclos normales y crepitantes.\n",
        "\n",
        "H A : El rango de los ciclos respiratorios no es igual entre los ciclos normales y crepitantes."
      ]
    },
    {
      "cell_type": "code",
      "metadata": {
        "colab": {
          "base_uri": "https://localhost:8080/"
        },
        "id": "RouBfn0_5wBD",
        "outputId": "e9aa858d-336b-40a1-97f3-29c908007a0d"
      },
      "source": [
        "#Se aplica el test de Mann-Whitney.\n",
        "u_statistic, pVal = stats.mannwhitneyu(r[0:len(normal)] , r[len(normal):len(normal)+len(crep)])\n",
        "print ('Valor P:', pVal)"
      ],
      "execution_count": null,
      "outputs": [
        {
          "output_type": "stream",
          "text": [
            "Valor P: 1.1523410580682039e-27\n"
          ],
          "name": "stdout"
        }
      ]
    },
    {
      "cell_type": "markdown",
      "metadata": {
        "id": "xMwuysjN_Mxs"
      },
      "source": [
        "*  Dado que el valor p (1.15e-27) es menor que 0.05, se rechaza la hipótesis nula, lo que significa que existe una diferencia entre el rango de los ciclos respiratorios normales y crepitantes."
      ]
    },
    {
      "cell_type": "markdown",
      "metadata": {
        "id": "QBSHlG416DOf"
      },
      "source": [
        "H 0 : El rango de los ciclos respiratorios es igual entre los ciclos normales y sibilantes.\n",
        "\n",
        "H A : El rango de los ciclos respiratorios no es igual entre los ciclos normales y sibilantes."
      ]
    },
    {
      "cell_type": "code",
      "metadata": {
        "colab": {
          "base_uri": "https://localhost:8080/"
        },
        "id": "TTi6sGIF6CEb",
        "outputId": "1db1c91b-b992-4714-bee8-fb8f3bb36d98"
      },
      "source": [
        "#Se aplica el test de Mann-Whitney.\n",
        "u_statistic, pVal = stats.mannwhitneyu(r[0:len(normal)] , r[len(normal)+len(crep):len(normal)+len(crep)+len(sibi)]) \n",
        "print ('Valor P:', pVal)"
      ],
      "execution_count": null,
      "outputs": [
        {
          "output_type": "stream",
          "text": [
            "Valor P: 0.0007150008756986521\n"
          ],
          "name": "stdout"
        }
      ]
    },
    {
      "cell_type": "markdown",
      "metadata": {
        "id": "ykFLNoPi_i0v"
      },
      "source": [
        "*  Dado que el valor p (0.000715) es menor que 0.05, se rechaza la hipótesis nula, lo que significa que existe una diferencia entre el rango de los ciclos respiratorios normales y sibilantes."
      ]
    },
    {
      "cell_type": "markdown",
      "metadata": {
        "id": "V9vaVgnL6jEF"
      },
      "source": [
        "**SMA gruesa**"
      ]
    },
    {
      "cell_type": "markdown",
      "metadata": {
        "id": "h7CVmPCP6ns_"
      },
      "source": [
        "H 0 : La SMA de los ciclos respiratorios es igual entre los ciclos normales y crepitantes.\n",
        "\n",
        "H A : La SMA de los ciclos respiratorios no es igual entre los ciclos normales y crepitantes."
      ]
    },
    {
      "cell_type": "code",
      "metadata": {
        "colab": {
          "base_uri": "https://localhost:8080/"
        },
        "id": "bym_6ufv6m4K",
        "outputId": "5f640009-ba22-41c4-ef69-0800fa39420f"
      },
      "source": [
        "#Se aplica el test de Mann-Whitney.\n",
        "u_statistic, pVal = stats.mannwhitneyu(sg[0:len(normal)] , sg[len(normal):len(normal)+len(crep)]) \n",
        "print ('Valor P:', pVal)"
      ],
      "execution_count": null,
      "outputs": [
        {
          "output_type": "stream",
          "text": [
            "Valor P: 4.506518565320068e-24\n"
          ],
          "name": "stdout"
        }
      ]
    },
    {
      "cell_type": "markdown",
      "metadata": {
        "id": "q7m8k7Pd_wa1"
      },
      "source": [
        "*  Dado que el valor p (4.50e-24) es menor que 0.05, se rechaza la hipótesis nula, lo que significa que existe una diferencia entre la SMA gruesa de los ciclos respiratorios normales y crepitantes."
      ]
    },
    {
      "cell_type": "markdown",
      "metadata": {
        "id": "zicSQKpH7JUt"
      },
      "source": [
        "H 0 : La SMA de los ciclos respiratorios es igual entre los ciclos normales y sibilantes.\n",
        "\n",
        "H A : La SMA de los ciclos respiratorios no es igual entre los ciclos normales y sibilantes."
      ]
    },
    {
      "cell_type": "code",
      "metadata": {
        "colab": {
          "base_uri": "https://localhost:8080/"
        },
        "id": "Qs_zhuxo7S62",
        "outputId": "7cda812c-b6b4-4135-8102-107f182ea57d"
      },
      "source": [
        "#Se aplica el test de Mann-Whitney.\n",
        "u_statistic, pVal = stats.mannwhitneyu(sg[0:len(normal)] , sg[len(normal)+len(crep):len(normal)+len(crep)+len(sibi)]) \n",
        "print ('Valor P:', pVal)"
      ],
      "execution_count": null,
      "outputs": [
        {
          "output_type": "stream",
          "text": [
            "Valor P: 0.00022390976295266155\n"
          ],
          "name": "stdout"
        }
      ]
    },
    {
      "cell_type": "markdown",
      "metadata": {
        "id": "llH8oICj_9YC"
      },
      "source": [
        "*  Dado que el valor p (0.000223) es menor que 0.05, se rechaza la hipótesis nula, lo que significa que existe una diferencia entre la SMA gruesa de los ciclos respiratorios normales y sibilantes."
      ]
    },
    {
      "cell_type": "markdown",
      "metadata": {
        "id": "viq-D-LU7jNf"
      },
      "source": [
        "**SMA fina**"
      ]
    },
    {
      "cell_type": "markdown",
      "metadata": {
        "id": "IhJxqJ0J7oi3"
      },
      "source": [
        "H 0 : La SMA fina de los ciclos respiratorios es igual entre los ciclos normales y crepitantes.\n",
        "\n",
        "H A : La SMA fina de los ciclos respiratorios no es igual entre los ciclos normales y crepitantes."
      ]
    },
    {
      "cell_type": "code",
      "metadata": {
        "colab": {
          "base_uri": "https://localhost:8080/"
        },
        "id": "E8f-hyVk71Ou",
        "outputId": "61471a0d-dff7-4b50-df76-de4bd38adb09"
      },
      "source": [
        "#Se aplica el test de Mann-Whitney.\n",
        "u_statistic, pVal = stats.mannwhitneyu(sf[0:len(normal)] , sf[len(normal):len(normal)+len(crep)]) \n",
        "print ('Valor P:', pVal)"
      ],
      "execution_count": null,
      "outputs": [
        {
          "output_type": "stream",
          "text": [
            "Valor P: 3.9947870134928154e-28\n"
          ],
          "name": "stdout"
        }
      ]
    },
    {
      "cell_type": "markdown",
      "metadata": {
        "id": "-dEnc2iOAKuX"
      },
      "source": [
        "*  Dado que el valor p (3.994e-28) es menor que 0.05, se rechaza la hipótesis nula, lo que significa que existe una diferencia entre la SMA fina de los ciclos respiratorios normales y crepitantes."
      ]
    },
    {
      "cell_type": "markdown",
      "metadata": {
        "id": "UDEfLhtD78mz"
      },
      "source": [
        "H 0 : La SMA fina de los ciclos respiratorios es igual entre los ciclos normales y sibilantes.\n",
        "\n",
        "H A : La SMA fina de los ciclos respiratorios no es igual entre los ciclos normales y sibilantes."
      ]
    },
    {
      "cell_type": "code",
      "metadata": {
        "colab": {
          "base_uri": "https://localhost:8080/"
        },
        "id": "RMnPpS7Y8Ga0",
        "outputId": "15f6568b-5a6b-4233-94ee-b14154e7a7a0"
      },
      "source": [
        "#Se aplica el test de Mann-Whitney.\n",
        "u_statistic, pVal = stats.mannwhitneyu(sf[0:len(normal)] , sf[len(normal)+len(crep):len(normal)+len(crep)+len(sibi)]) \n",
        "print ('Valor P:', pVal)"
      ],
      "execution_count": null,
      "outputs": [
        {
          "output_type": "stream",
          "text": [
            "Valor P: 0.0004209959789440229\n"
          ],
          "name": "stdout"
        }
      ]
    },
    {
      "cell_type": "markdown",
      "metadata": {
        "id": "Gkb_QZGOAWRz"
      },
      "source": [
        "*  Dado que el valor p (0.00042) es menor que 0.05, se rechaza la hipótesis nula, lo que significa que existe una diferencia entre la SMA fina de los ciclos respiratorios normales y sibilantes."
      ]
    },
    {
      "cell_type": "markdown",
      "metadata": {
        "id": "EEEZttLG8RAc"
      },
      "source": [
        "**Espectro medio**"
      ]
    },
    {
      "cell_type": "markdown",
      "metadata": {
        "id": "BMI5cQoj8TT1"
      },
      "source": [
        "H 0 : El espectro medio de los ciclos respiratorios es igual entre los ciclos normales y crepitantes.\n",
        "\n",
        "H A : El espectro medio de los ciclos respiratorios no es igual entre los ciclos normales y crepitantes."
      ]
    },
    {
      "cell_type": "code",
      "metadata": {
        "colab": {
          "base_uri": "https://localhost:8080/"
        },
        "id": "nODFvIxi8jcv",
        "outputId": "8a6d6dda-c7f5-4109-f6dc-fcfb41e233d5"
      },
      "source": [
        "#Se aplica el test de Mann-Whitney.\n",
        "u_statistic, pVal = stats.mannwhitneyu(e[0:len(normal)] , e[len(normal):len(normal)+len(crep)]) \n",
        "print ('Valor P:', pVal)"
      ],
      "execution_count": null,
      "outputs": [
        {
          "output_type": "stream",
          "text": [
            "Valor P: 4.249476324025359e-24\n"
          ],
          "name": "stdout"
        }
      ]
    },
    {
      "cell_type": "markdown",
      "metadata": {
        "id": "2III1U7jAg80"
      },
      "source": [
        "*  Dado que el valor p (4.249e-24) es menor que 0.05, se rechaza la hipótesis nula, lo que significa que existe una diferencia entre el espectro medio de los ciclos respiratorios normales y crepitantes."
      ]
    },
    {
      "cell_type": "markdown",
      "metadata": {
        "id": "P0gcPl2P8xHo"
      },
      "source": [
        "H 0 :  El espectro medio de los ciclos respiratorios es igual entre los ciclos normales y sibilantes.\n",
        "\n",
        "H A :  El espectro medio de los ciclos respiratorios no es igual entre los ciclos normales y sibilantes."
      ]
    },
    {
      "cell_type": "code",
      "metadata": {
        "colab": {
          "base_uri": "https://localhost:8080/"
        },
        "id": "KPtEVVpv82Bg",
        "outputId": "caa5fc29-4ee1-41de-b9d5-f08c9d406f77"
      },
      "source": [
        "#Se aplica el test de Mann-Whitney.\n",
        "u_statistic, pVal = stats.mannwhitneyu(e[0:len(normal)] , e[len(normal)+len(crep):len(normal)+len(crep)+len(sibi)]) \n",
        "print ('Valor P:', pVal)"
      ],
      "execution_count": null,
      "outputs": [
        {
          "output_type": "stream",
          "text": [
            "Valor P: 0.0008735614461393159\n"
          ],
          "name": "stdout"
        }
      ]
    },
    {
      "cell_type": "markdown",
      "metadata": {
        "id": "7GHBqpk4Aujc"
      },
      "source": [
        "*  Dado que el valor p (0.000873) es menor que 0.05, se rechaza la hipótesis nula, lo que significa que existe una diferencia entre el espectro medio de los ciclos respiratorios normales y sibilantes."
      ]
    },
    {
      "cell_type": "markdown",
      "metadata": {
        "id": "xyFW_4Ci9R1R"
      },
      "source": [
        "**PSD prom**"
      ]
    },
    {
      "cell_type": "markdown",
      "metadata": {
        "id": "zTDGBCja9dPZ"
      },
      "source": [
        "H 0 : El PSD promedio de los ciclos respiratorios es igual entre los ciclos normales y crepitantes.\n",
        "\n",
        "H A : El PSD promedio de los ciclos respiratorios no es igual entre los ciclos normales y crepitantes."
      ]
    },
    {
      "cell_type": "code",
      "metadata": {
        "colab": {
          "base_uri": "https://localhost:8080/"
        },
        "id": "zaYA5Wv_9Wjg",
        "outputId": "8c380a71-81d8-46a7-a05d-1fc870d2e9e3"
      },
      "source": [
        "#Se aplica el test de Mann-Whitney.\n",
        "u_statistic, pVal = stats.mannwhitneyu(p[0:len(normal)] , p[len(normal):len(normal)+len(crep)]) \n",
        "print ('Valor P:', pVal)"
      ],
      "execution_count": null,
      "outputs": [
        {
          "output_type": "stream",
          "text": [
            "Valor P: 3.6547881610887036e-13\n"
          ],
          "name": "stdout"
        }
      ]
    },
    {
      "cell_type": "markdown",
      "metadata": {
        "id": "IkJsJ_FYBAgk"
      },
      "source": [
        "*  Dado que el valor p (3.65e-13) es menor que 0.05, se rechaza la hipótesis nula, lo que significa que existe una diferencia entre el PSD promedio de los ciclos respiratorios normales y crepitantes."
      ]
    },
    {
      "cell_type": "markdown",
      "metadata": {
        "id": "PaTq4LVE9tBR"
      },
      "source": [
        "H 0 : El PSD promedio de los ciclos respiratorios es igual entre los ciclos normales y sibilantes.\n",
        "\n",
        "H A : El PSD promedio de los ciclos respiratorios no es igual entre los ciclos normales y sibilantes."
      ]
    },
    {
      "cell_type": "code",
      "metadata": {
        "colab": {
          "base_uri": "https://localhost:8080/"
        },
        "id": "eL1GlZdX92x3",
        "outputId": "c5ecd642-e24b-4733-d6fe-f9fec0ee58b5"
      },
      "source": [
        "#Se aplica el test de Mann-Whitney.\n",
        "u_statistic, pVal = stats.mannwhitneyu(p[0:len(normal)] , p[len(normal)+len(crep):len(normal)+len(crep)+len(sibi)])\n",
        "print ('Valor P:', pVal)"
      ],
      "execution_count": null,
      "outputs": [
        {
          "output_type": "stream",
          "text": [
            "Valor P: 0.4751709172955538\n"
          ],
          "name": "stdout"
        }
      ]
    },
    {
      "cell_type": "markdown",
      "metadata": {
        "id": "Ghb7d1jkBJxg"
      },
      "source": [
        "*  Dado que el valor p (0.475) es mayor que 0.05, no se rechaza. No se tiene evidencia suficiente para decir que no existe una diferencia entre el PSD promedio de los ciclos respiratorios normales y sibilantes."
      ]
    },
    {
      "cell_type": "markdown",
      "metadata": {
        "id": "7IshQ1Ui6tU1"
      },
      "source": [
        "### **Análisis de resultados**"
      ]
    },
    {
      "cell_type": "markdown",
      "metadata": {
        "id": "G9_euqs4DAlx"
      },
      "source": [
        "Con el fin de realizar un análisis estadístico del comportamiento de los ciclos respiratorios se extrajeron las características estadisticas básicas de los índices que describen el comportamiento temporal y frecuencial de cada uno de los ciclos respiratorios extraidos de la base de datos *'Respiratory Sound Database'*, encontrando que existe una mayor varianza en los ciclos sibilantes y normales con relación a los crepitantes, así mismo se observa que la densidad espectral de potencia es en promedio mayor en los ciclos que presentan sibilancias, seguido de los normales y crepitantes. Por otro lado se caracterizó la varianza de los ciclos y del espectro mediante la desviación estandar, encontrando una mayor dispersión en la varianza de los ciclos normales, seguido de los sibilantes y por último crepitantes, así mismo, los resultados relacionados con la desviación estandar del espectro sugieren una mayor dispersión del espectro promedio de los ciclos normales, seguido de los sibilantes y crepitantes, finalmente, se analiza el promedio y la desviación estandar del rango, obteniendo en promedio un mayor rango de amplitud para las sibilancias y el menor para los normales; en el caso de la desviación estandar de los rangos, la mayor variación se presenta en los ciclos sibilantes y la menor en los crepitantes.\n",
        "\n",
        "Posteriormente, mediante las pruebas de hipótesis realizadas, se encuentra que es posible diferenciar los ciclos normales de los crepitantes o sibilantes a partir de la extracción de los indices que describen el comportamiento frecuencial y temporal de los ciclos respiratorios. Dado que el resultado del valor p en la mayoría es menor a 0.05 en los indices extraídos anteriormente es posible decir que son un parámetro que sirve para diferenciar los ciclos respiratorios normales de los sibilantes y normales de los crepitantes. En cuanto a la prueba de hipótesis realizada para el PSD promedio donde se maximiza la diferencia entre los ciclos respiratorios normales y sibilantes, se determina que el valor p resultante esta por fuera del nivel de significancia aceptado, lo que da cuenta de que en dicho rango de frecuencias (1250Hz y 1500Hz) no se puede determinar una diferencia entre un ciclo sibilante y un ciclo normal, por lo que sería necesario determinar un nuevo rango de frecuencias que permita relacionar la diferencia del espectro de la densidad de potencia entre los ciclos normales y con sibilancias, ya que en el presente trabajo, solo se determina un rango para los tres grupos. \n",
        "\n",
        "Finalmente, gracias al preprocesamiento y procesamiento de los datos, a partir de filtros pasa altas, pasa bajas y pasa bandas, los cuales permiten la eliminación de frecuencias que no son de interés para el estudio, además del filtrado Wavelet que permite eliminar sonidos externos asociados al latido del corazón, es posible extraer de las señales obtenidas mediante la auscultación información libre de perturbaciones externas o ruido que impiden un adecuado análisis de los ciclos respiratorios. Lo anterior es muy útil para realizar diagnósticos de afectaciones clínicas que relacionen el sistema respiratorio. "
      ]
    },
    {
      "cell_type": "code",
      "metadata": {
        "id": "7pUXgpkvoUp1"
      },
      "source": [
        "#Función definida para realizar el preprocesamiento y la extracción de todas las características anteriormente hechas. \n",
        "def rutina_final(au,txt):\n",
        "  #Se llama la función que recorta los ciclos respiratorios. \n",
        "  normal,crep,sibi,ln,lnc,lns=recorte(au,txt)\n",
        "  tipos=[normal,crep,sibi]\n",
        "  var_=[]\n",
        "  r_=[]\n",
        "  sg_=[]\n",
        "  sf_=[]\n",
        "  e_=[]\n",
        "  p_=[]\n",
        "  #Ciclo que añade a diferentes listas los índices de todos los ciclos respiratorios. \n",
        "  for i in range(0,len(tipos)):\n",
        "    for k in range(0,len(tipos[i])):\n",
        "      var,rango,suma_g,suma_f,esp_m,prome=indices(tipos[i][k])\n",
        "      var_.append(var)\n",
        "      r_.append(rango)\n",
        "      sg_.append(suma_g)\n",
        "      sf_.append(suma_f)\n",
        "      e_.append(esp_m)\n",
        "      p_.append(prome)\n",
        "\n",
        "  #Se dividen cada uno de los índices correspondientes a cada grupo de ciclos respiratorios, normales, sibilantes y crepitantes. \n",
        "  no=[]\n",
        "  for i in range(0,len(normal)):\n",
        "    nn='Normal'\n",
        "    no.append(nn)\n",
        "  na=[]\n",
        "  for i in range(0,len(sibi)):\n",
        "    nn='Sibilancia'\n",
        "    na.append(nn)\n",
        "  np=[]\n",
        "  for i in range(0,len(crep)):\n",
        "    nn='Crepitancia'\n",
        "    np.append(nn)\n",
        "\n",
        "  #\n",
        "  gp=[]\n",
        "  gp.extend(no)\n",
        "  gp.extend(np)\n",
        "  gp.extend(na)\n",
        "\n",
        "  #Se guarda toda la información de los índices en un dataframe discriminando cada uno de los ciclos respiratorios normales, crepitantes y sibilantes. \n",
        "  CDATA=pd.DataFrame({'Varianza':pd.Series(var_),'Rango':pd.Series(r_),'SMA gruesa':pd.Series(sg_),'SMA fina':pd.Series(sf_),'Espectro medio':pd.Series(e_),'PSD prom':pd.Series(p_)})\n",
        "  CDATA.index=gp\n",
        "  \n",
        "  return var_,r_,sg_,sf_,e_,p_,CDATA"
      ],
      "execution_count": null,
      "outputs": []
    },
    {
      "cell_type": "code",
      "metadata": {
        "id": "S6d9eJSI3j7K"
      },
      "source": [
        "%%capture\n",
        "## Aplicación de preprocesamiento y procesamiento de datos\n",
        "var,r,sg,sf,e,p,datos=rutina_final(wav,txt)"
      ],
      "execution_count": null,
      "outputs": []
    }
  ]
}